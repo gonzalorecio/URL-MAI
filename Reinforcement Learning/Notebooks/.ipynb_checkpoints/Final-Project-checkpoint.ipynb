{
 "cells": [
  {
   "cell_type": "markdown",
   "metadata": {},
   "source": [
    "# Introduction to OpenGym using the CartPole problem\n",
    "\n",
    "OpenGym is an standard testbed for RL algorithms. \n",
    "\n",
    "https://gym.openai.com/envs/#classic_control\n",
    "\n",
    "In this notebook we test our own implementation of Q-learning (see slides of Lecture 2) with OpenGym in the CartPole environment (see slides of Lecture 1)."
   ]
  },
  {
   "cell_type": "code",
   "execution_count": 30,
   "metadata": {},
   "outputs": [],
   "source": [
    "import numpy as np\n",
    "import math\n",
    "import matplotlib.pyplot as plt\n",
    "import seaborn as sns\n",
    "from collections import deque\n",
    "import pandas as pd\n",
    "\n",
    "import gym\n",
    "env = gym.make('CartPole-v1')\n",
    "env.reset()\n",
    "env = gym.make('LunarLander-v2')\n",
    "# env = gym.make('BipedalWalker-v3')\n"
   ]
  },
  {
   "cell_type": "code",
   "execution_count": 31,
   "metadata": {},
   "outputs": [
    {
     "data": {
      "text/plain": [
       "array([ 0.00756092,  1.4168017 ,  0.76582754,  0.26138008, -0.00875447,\n",
       "       -0.17347124,  0.        ,  0.        ], dtype=float32)"
      ]
     },
     "execution_count": 31,
     "metadata": {},
     "output_type": "execute_result"
    }
   ],
   "source": [
    "env.reset()"
   ]
  },
  {
   "cell_type": "markdown",
   "metadata": {},
   "source": [
    "## Description of the environment\n",
    "\n",
    "OpenGym has not very good documentation. Usually you have to go to code to understand the details of the environment you want to use.\n",
    "\n",
    "In the case of the CartPole, go to:\n",
    "\n",
    "https://gym.openai.com/envs/CartPole-v1/\n",
    "\n",
    "Fortunately, there are some functions implemented that show the minimum necessary information to run the RL algorithms."
   ]
  },
  {
   "cell_type": "code",
   "execution_count": 3,
   "metadata": {},
   "outputs": [
    {
     "name": "stdout",
     "output_type": "stream",
     "text": [
      "Discrete(4)\n"
     ]
    }
   ],
   "source": [
    "# Two discrete actions in the environment (push towards each direction)\n",
    "print(env.action_space)"
   ]
  },
  {
   "cell_type": "markdown",
   "metadata": {},
   "source": [
    "Means 2 discrete possible actions. In this case:\n",
    "\n",
    "<table>\n",
    "<thead>\n",
    "<tr>\n",
    "<th>Num</th>\n",
    "<th>Action</th>\n",
    "</tr>\n",
    "</thead>\n",
    "<tbody>\n",
    "<tr>\n",
    "<td>0</td>\n",
    "<td>Push cart to the left</td>\n",
    "</tr>\n",
    "<tr>\n",
    "<td>1</td>\n",
    "<td>Push cart to the right</td>\n",
    "    </tr>\n",
    "</table>\n",
    "    \n",
    "Not because I found this information in documentation of the environment but in the code of the environment (https://github.com/openai/gym/blob/master/gym/envs/classic_control/cartpole.py#L13)"
   ]
  },
  {
   "cell_type": "code",
   "execution_count": 4,
   "metadata": {},
   "outputs": [
    {
     "name": "stdout",
     "output_type": "stream",
     "text": [
      "Box(8,)\n"
     ]
    }
   ],
   "source": [
    "# Four dimensional space.\n",
    "print(env.observation_space)\n",
    "# print(env.action_space.)"
   ]
  },
  {
   "cell_type": "markdown",
   "metadata": {},
   "source": [
    "That means *4 variables \"Continuous with Bounds\"* (box). \n",
    "\n",
    "There also exist **Discrete** observations.\n",
    "\n",
    "They can be organized as:\n",
    "\n",
    "[https://github.com/openai/gym/blob/abef916ca2e858a3fe9765738e25209cd314cd14/gym/envs/box2d/lunar_lander.py#L306](https://github.com/openai/gym/blob/abef916ca2e858a3fe9765738e25209cd314cd14/gym/envs/box2d/lunar_lander.py#L306)\n",
    "\n",
    "- s[0] is the horizontal coordinate\n",
    "- s[1] is the vertical coordinate\n",
    "- s[2] is the horizontal speed\n",
    "- s[3] is the vertical speed\n",
    "- s[4] is the angle\n",
    "- s[5] is the angular speed\n",
    "- s[6] 1 if first leg has contact, else 0\n",
    "- s[7] 1 if second leg has contact, else 0\n",
    "\n",
    "\n",
    "- **Dictionary**, fi. Dict({\"position\": Discrete(5), \"velocity\": Box(low=np.array([0,0]),high=np.array([1,5]))}),\n",
    "- **Tuples** , fi. Tuple([Discrete(5), Box(low=np.array([0,0]),high=np.array([1,5]))]),\n",
    "- **Multidiscrete**, fi. MultiDiscrete([ 2, 2, 100]),"
   ]
  },
  {
   "cell_type": "code",
   "execution_count": 5,
   "metadata": {},
   "outputs": [
    {
     "name": "stdout",
     "output_type": "stream",
     "text": [
      "[inf inf inf inf inf inf inf inf]\n",
      "[-inf -inf -inf -inf -inf -inf -inf -inf]\n"
     ]
    }
   ],
   "source": [
    "# Show the limits of each variable\n",
    "\n",
    "print(env.observation_space.high)\n",
    "print(env.observation_space.low)"
   ]
  },
  {
   "cell_type": "markdown",
   "metadata": {},
   "source": [
    "<table>\n",
    "<thead>\n",
    "<tr>\n",
    "<th>Num</th>\n",
    "<th>Observation</th>\n",
    "<th>Min</th>\n",
    "<th>Max</th>\n",
    "</tr>\n",
    "</thead>\n",
    "<tbody>\n",
    "<tr>\n",
    "<td>0</td>\n",
    "<td>Cart Position</td>\n",
    "<td>-4.8</td>\n",
    "<td>4.8</td>\n",
    "</tr>\n",
    "<tr>\n",
    "<td>1</td>\n",
    "<td>Cart Velocity</td>\n",
    "<td>-&infin;</td>\n",
    "<td>&infin;</td>\n",
    "</tr>\n",
    "<tr>\n",
    "<td>2</td>\n",
    "<td>Pole Angle rads</td>\n",
    "<td>-0.42</td>\n",
    "<td>0.42</td>\n",
    "</tr>\n",
    "<tr>\n",
    "<td>3</td>\n",
    "<td>Pole Velocity At Tip</td>\n",
    "<td>-&infin;</td>\n",
    "<td>&infin;</td>"
   ]
  },
  {
   "cell_type": "markdown",
   "metadata": {},
   "source": [
    "## Acting in the environment\n",
    "\n",
    "The *step* method of the environment returns information after execution of an action (passed as parameter) in the *current* state of the environment. In fact, *step* method returns four values:\n",
    "\n",
    "- **observation** (*object*): an environment-specific object representing your observation of the environment after the action has been executed. Examples of observations are: pixels from a game screen, joint angles and joint velocities of a robot, or the board state in a board game.\n",
    "    \n",
    "- **reward** (*float*): immediate reward obtained after action execution. The scale depends on the environment, but the goal is always to increase your total reward.\n",
    "    \n",
    "- **done** (*boolean*): If trial has ended or note (terminal state). When True, it’s time to reset the environment again. Most (but not all) tasks are divided up into well-defined episodes, and *done* being True indicates the episode has terminated. (For example, perhaps the pole tipped too far, or you lost your last life in a game.)\n",
    "    \n",
    "- **info** (*dict*): diagnostic information useful for debugging. It can sometimes be useful for learning (for example, it might contain the raw probabilities behind the environment’s last state change). However, official evaluations of your agent are not allowed to use this info for learning.\n"
   ]
  },
  {
   "cell_type": "code",
   "execution_count": 6,
   "metadata": {},
   "outputs": [
    {
     "name": "stdout",
     "output_type": "stream",
     "text": [
      "s = [-0.00277662  1.4007645  -0.28126568 -0.45136696  0.0032243   0.06371088\n",
      "  0.          0.        ]\n",
      "a = 1\n",
      "r = -1.990410897494569\n",
      "s'= [-0.0056138   1.3900304  -0.2884336  -0.47708374  0.00788628  0.09324934\n",
      "  0.          0.        ]\n",
      "False\n"
     ]
    }
   ],
   "source": [
    "obs1 = env.reset()  # Starting state\n",
    "action = env.action_space.sample() # take a random action\n",
    "obs2, reward, done, info = env.step(action)  # take the action and observe results\n",
    "print('s =',obs1)  \n",
    "print('a =',action)\n",
    "print('r =',reward)\n",
    "print(\"s'=\",obs2)\n",
    "print(done)"
   ]
  },
  {
   "cell_type": "markdown",
   "metadata": {},
   "source": [
    "That's all the information we need in model-free RL algorithms!\n",
    "\n",
    "Let's execute now a sequence of random actions. Method *env.render* will show us a visualization of the environment."
   ]
  },
  {
   "cell_type": "code",
   "execution_count": 7,
   "metadata": {},
   "outputs": [],
   "source": [
    "# Generate one random trial\n",
    "obs1 = env.reset() \n",
    "done= False  \n",
    "while not done:\n",
    "    env.render()\n",
    "    observation, reward, done, info = env.step(env.action_space.sample()) # take a random action"
   ]
  },
  {
   "cell_type": "code",
   "execution_count": 8,
   "metadata": {},
   "outputs": [],
   "source": [
    "env.close()"
   ]
  },
  {
   "cell_type": "code",
   "execution_count": 10,
   "metadata": {},
   "outputs": [
    {
     "name": "stdout",
     "output_type": "stream",
     "text": [
      "Average reward -140.67575433050786\n",
      "Average time steps before ending episode 86.8\n"
     ]
    }
   ],
   "source": [
    "# Let's compute the average return for 10 random trials and the number of timesteps\n",
    "t=0\n",
    "tsteps=0\n",
    "treward=0\n",
    "for nexps in range(10):   # Let's do 10 trials\n",
    "    done= False  \n",
    "    env.reset() \n",
    "    while not done:\n",
    "        env.render()\n",
    "        observation, reward, done, info = env.step(env.action_space.sample()) # take a random action\n",
    "        treward = treward + reward\n",
    "        tsteps = tsteps + 1\n",
    "\n",
    "print('Average reward',treward/10)\n",
    "print('Average time steps before ending episode',tsteps/10)\n"
   ]
  },
  {
   "cell_type": "markdown",
   "metadata": {},
   "source": [
    "Trying to apply Q-learning, we have to define the table that will store the Q-value function. But we have a problem here, because our **states are defined by continuous variables**.\n",
    "\n",
    "One solution could be to discretize values by bining them.\n",
    "\n",
    "## Discretization of the state\n",
    "\n",
    "First we have to declare how many \"discrete\" states I will allow per variable, and later define the discretization procedure "
   ]
  },
  {
   "cell_type": "code",
   "execution_count": null,
   "metadata": {},
   "outputs": [],
   "source": []
  },
  {
   "cell_type": "code",
   "execution_count": 43,
   "metadata": {},
   "outputs": [],
   "source": [
    "discr_vector = (1,3,10,20,)   # Resolution degrees: How many discrete states per variable. Play with this parameter!\n",
    "discr_vector = (8,8,8,8,8,8,2,2)   # Resolution degrees: How many discrete states per variable. Play with this parameter!\n",
    "\n",
    "class Discretizer ():\n",
    "    \"\"\" mins: vector with minimim values allowed for each variable\n",
    "        maxs: vector with maximum values allowed for each variable\n",
    "    \"\"\"\n",
    "    def __init__(self, vector_discr, mins, maxs):\n",
    "        self.mins=mins\n",
    "        self.maxs=maxs\n",
    "        \n",
    "    def Discretize(self, obs):\n",
    "        ratios = [(obs[i] + abs(self.mins[i])) / (self.maxs[i] - self.mins[i]) for i in range(len(obs))]\n",
    "        new_obs = [int(round((discr_vector[i] - 1) * ratios[i])) for i in range(len(obs))]\n",
    "        new_obs = [min(discr_vector[i] - 1, max(0, new_obs[i])) for i in range(len(obs))]\n",
    "        return tuple(new_obs)\n",
    "\n",
    "# Create the discretizer with maxs and mins from the enviroment\n",
    "# d = Discretizer(discr_vector, env.observation_space.low, env.observation_space.high)\n",
    "# d = Discretizer(discr_vector, [-1000]*8, [1000]*8)\n",
    "# It will not work because limits for two varaibles are almost infinite (in other case could work)"
   ]
  },
  {
   "cell_type": "code",
   "execution_count": 10,
   "metadata": {},
   "outputs": [
    {
     "data": {
      "text/plain": [
       "array([-inf, -inf, -inf, -inf, -inf, -inf, -inf, -inf], dtype=float32)"
      ]
     },
     "execution_count": 10,
     "metadata": {},
     "output_type": "execute_result"
    }
   ],
   "source": [
    "env.observation_space.low"
   ]
  },
  {
   "cell_type": "code",
   "execution_count": 11,
   "metadata": {},
   "outputs": [
    {
     "name": "stdout",
     "output_type": "stream",
     "text": [
      "[-0.00470095  1.420856   -0.4761675   0.4415849   0.00545397  0.10785909\n",
      "  0.          0.        ]\n"
     ]
    },
    {
     "ename": "NameError",
     "evalue": "name 'd' is not defined",
     "output_type": "error",
     "traceback": [
      "\u001b[0;31m---------------------------------------------------------------------------\u001b[0m",
      "\u001b[0;31mNameError\u001b[0m                                 Traceback (most recent call last)",
      "\u001b[0;32m<ipython-input-11-6de4c2adb18a>\u001b[0m in \u001b[0;36m<module>\u001b[0;34m\u001b[0m\n\u001b[1;32m      1\u001b[0m \u001b[0mobs1\u001b[0m \u001b[0;34m=\u001b[0m \u001b[0menv\u001b[0m\u001b[0;34m.\u001b[0m\u001b[0mreset\u001b[0m\u001b[0;34m(\u001b[0m\u001b[0;34m)\u001b[0m\u001b[0;34m\u001b[0m\u001b[0;34m\u001b[0m\u001b[0m\n\u001b[1;32m      2\u001b[0m \u001b[0mprint\u001b[0m\u001b[0;34m(\u001b[0m\u001b[0mobs1\u001b[0m\u001b[0;34m)\u001b[0m\u001b[0;34m\u001b[0m\u001b[0;34m\u001b[0m\u001b[0m\n\u001b[0;32m----> 3\u001b[0;31m \u001b[0md\u001b[0m\u001b[0;34m.\u001b[0m\u001b[0mDiscretize\u001b[0m\u001b[0;34m(\u001b[0m\u001b[0mobs1\u001b[0m\u001b[0;34m)\u001b[0m\u001b[0;34m\u001b[0m\u001b[0;34m\u001b[0m\u001b[0m\n\u001b[0m",
      "\u001b[0;31mNameError\u001b[0m: name 'd' is not defined"
     ]
    }
   ],
   "source": [
    "obs1 = env.reset() \n",
    "print(obs1)\n",
    "d.Discretize(obs1)"
   ]
  },
  {
   "cell_type": "code",
   "execution_count": 12,
   "metadata": {},
   "outputs": [
    {
     "name": "stdout",
     "output_type": "stream",
     "text": [
      "[-1.0164684057235718, -0.36122721433639526, -2.263826608657837, -2.032017469406128, -4.218284606933594, -7.160820007324219, 0.0, 0.0] [1.019068717956543, 1.269616723060608, 2.264451742172241, 0.458525151014328, 3.3681206703186035, 7.104520320892334, 1.0, 1.0]\n"
     ]
    }
   ],
   "source": [
    "# Another approach. Try a lot of random actions and find maximum and minimum for each variable empirically\n",
    "# This approach also has some problems, because some states are found with very low probability.\n",
    "\n",
    "TRIALS = 0#1000\n",
    "lO=np.zeros((TRIALS,8))\n",
    "tsteps=0\n",
    "treward=0\n",
    "for nexp in range(TRIALS):   # Let's do 10 trials\n",
    "    done= False  \n",
    "    env.reset() \n",
    "    while not done:\n",
    "        observation, reward, done, info = env.step(env.action_space.sample()) # take a random action\n",
    "        treward = treward + reward\n",
    "        tsteps = tsteps + 1\n",
    "        lO[nexp]=np.array(observation)        \n",
    "        \n",
    "maxv=[np.max(lO[:,i]) for i in range(lO.shape[1])]\n",
    "minv=[np.min(lO[:,i]) for i in range(lO.shape[1])]\n",
    "\n",
    "# Now we have a better discretization based on common values\n",
    "print(minv, maxv)\n",
    "d = Discretizer(discr_vector, minv, maxv)\n",
    "d = Discretizer(discr_vector, [-1,-1,-1,-1,-1,-1,0,0], [1,1,1,1,1,1,1,1])\n",
    "\n",
    "# or even better\n",
    "# minv = [env.observation_space.low[0], minv[1], env.observation_space.low[2], minv[3]]\n",
    "# maxv = [env.observation_space.high[0], maxv[1], env.observation_space.high[2], maxv[3]]\n",
    "# d = Discretizer(discr_vector, minv, maxv)"
   ]
  },
  {
   "cell_type": "code",
   "execution_count": 14,
   "metadata": {},
   "outputs": [
    {
     "name": "stdout",
     "output_type": "stream",
     "text": [
      "[-1.0164684057235718, -0.36122721433639526, -2.263826608657837, -2.032017469406128, -4.218284606933594, -7.160820007324219, 0.0, 0.0]\n",
      "[1.019068717956543, 1.269616723060608, 2.264451742172241, 0.458525151014328, 3.3681206703186035, 7.104520320892334, 1.0, 1.0]\n"
     ]
    }
   ],
   "source": [
    "print(minv)\n",
    "print(maxv)"
   ]
  },
  {
   "cell_type": "markdown",
   "metadata": {},
   "source": [
    "## Q-learning implementation\n",
    "\n",
    "#### Define epsilon-greedy procedure"
   ]
  },
  {
   "cell_type": "code",
   "execution_count": 15,
   "metadata": {},
   "outputs": [],
   "source": [
    "def choose_action(state, epsilon):\n",
    "    return env.action_space.sample() if (np.random.random() <= epsilon) else np.argmax(Q[state])\n"
   ]
  },
  {
   "cell_type": "markdown",
   "metadata": {},
   "source": [
    "#### Implementation of Q-learning"
   ]
  },
  {
   "cell_type": "code",
   "execution_count": 16,
   "metadata": {},
   "outputs": [
    {
     "name": "stdout",
     "output_type": "stream",
     "text": [
      "Episode 100 Total Reward: 9.366053051498866 Average Reward: -155.65687786525424\n",
      "Episode 200 Total Reward: -442.96016534599715 Average Reward: -153.0136369753297\n",
      "Episode 300 Total Reward: -195.15725493463026 Average Reward: -159.41043656507227\n",
      "Episode 400 Total Reward: -225.8081204357989 Average Reward: -151.14843942120763\n",
      "Episode 500 Total Reward: -315.0252052424719 Average Reward: -146.13986089091838\n",
      "Episode 600 Total Reward: -32.7377591254245 Average Reward: -168.07194333318938\n",
      "Episode 700 Total Reward: -93.63061032022014 Average Reward: -148.67764028523004\n",
      "Episode 800 Total Reward: -77.16243440770185 Average Reward: -167.86302557327474\n",
      "Episode 900 Total Reward: -4.82919723259586 Average Reward: -125.94471772175875\n",
      "Episode 1000 Total Reward: -32.455127594387704 Average Reward: -114.20499199776721\n",
      "Episode 1100 Total Reward: -69.47343828355255 Average Reward: -104.11727245887107\n",
      "Episode 1200 Total Reward: -69.34553683342008 Average Reward: -144.53063142755315\n",
      "Episode 1300 Total Reward: -221.58193602344625 Average Reward: -97.65548322436078\n",
      "Episode 1400 Total Reward: -61.80188972300412 Average Reward: -112.98152317162983\n",
      "Episode 1500 Total Reward: -35.54742836626163 Average Reward: -111.99078740914358\n",
      "Episode 1600 Total Reward: -146.12994791476336 Average Reward: -97.56191682001729\n",
      "Episode 1700 Total Reward: -111.63126361842487 Average Reward: -80.9090818289906\n",
      "Episode 1800 Total Reward: -50.8629766703089 Average Reward: -102.28933884482826\n",
      "Episode 1900 Total Reward: -237.26318469897893 Average Reward: -109.0655760658704\n",
      "Episode 2000 Total Reward: -1.261369011233839 Average Reward: -94.75165244663607\n",
      "Episode 2100 Total Reward: -68.06288342028438 Average Reward: -86.27522230874237\n",
      "Episode 2200 Total Reward: -34.33025766003625 Average Reward: -88.47149888747236\n",
      "Episode 2300 Total Reward: -18.65521849376266 Average Reward: -64.76417486077818\n",
      "Episode 2400 Total Reward: -8.945831001649864 Average Reward: -92.81581983628406\n",
      "Episode 2500 Total Reward: 24.66021168065852 Average Reward: -72.63187356154678\n",
      "Episode 2600 Total Reward: -44.67706915000917 Average Reward: -80.2054300573623\n",
      "Episode 2700 Total Reward: -0.3063323140039671 Average Reward: -86.02095025899453\n",
      "Episode 2800 Total Reward: -229.74535411818732 Average Reward: -93.4801155389006\n",
      "Episode 2900 Total Reward: -116.46657121469087 Average Reward: -63.30851158137228\n",
      "Episode 3000 Total Reward: -233.68838027046536 Average Reward: -95.51523569264947\n",
      "Episode 3100 Total Reward: 9.093026191778108 Average Reward: -74.56087682661692\n",
      "Episode 3200 Total Reward: -269.94294968982194 Average Reward: -57.396876226634156\n",
      "Episode 3300 Total Reward: -87.11101747806939 Average Reward: -68.64572029807806\n",
      "Episode 3400 Total Reward: -230.17869516839488 Average Reward: -92.57820820128693\n",
      "Episode 3500 Total Reward: -23.05851064853171 Average Reward: -75.26833141659019\n",
      "Episode 3600 Total Reward: 44.44314023179752 Average Reward: -58.60674533115765\n",
      "Episode 3700 Total Reward: -23.743271174535195 Average Reward: -60.66144742611325\n",
      "Episode 3800 Total Reward: 219.1164055107937 Average Reward: -79.95197953979853\n",
      "Episode 3900 Total Reward: 40.89757903828999 Average Reward: -62.93204637660442\n",
      "Episode 4000 Total Reward: -200.85298467332274 Average Reward: -71.822054009281\n",
      "Episode 4100 Total Reward: 36.27413116018196 Average Reward: -90.6371365601096\n",
      "Episode 4200 Total Reward: -245.0880517798269 Average Reward: -35.85232367705666\n",
      "Episode 4300 Total Reward: 175.69850485583697 Average Reward: -76.60706944170867\n",
      "Episode 4400 Total Reward: -191.33249034349225 Average Reward: -73.76701976010615\n",
      "Episode 4500 Total Reward: -77.04472967045419 Average Reward: -61.808857064956385\n",
      "Episode 4600 Total Reward: -11.520291235480414 Average Reward: -78.01416978628382\n",
      "Episode 4700 Total Reward: -65.14490391829472 Average Reward: -44.67712934347105\n",
      "Episode 4800 Total Reward: -43.80706096324824 Average Reward: -53.60575858169343\n",
      "Episode 4900 Total Reward: -81.06466088083731 Average Reward: -58.08672101643255\n",
      "Episode 5000 Total Reward: -19.477726950117045 Average Reward: -52.92971858630677\n",
      "Episode 5100 Total Reward: -70.29295194317295 Average Reward: -45.45045048046977\n",
      "Episode 5200 Total Reward: 53.17646900511064 Average Reward: -61.0183357695595\n",
      "Episode 5300 Total Reward: 1.6833857114589108 Average Reward: -72.24225442126959\n",
      "Episode 5400 Total Reward: 236.84847601108393 Average Reward: -59.911189183888126\n",
      "Episode 5500 Total Reward: -18.587451487483293 Average Reward: -49.39878481385521\n"
     ]
    },
    {
     "ename": "KeyboardInterrupt",
     "evalue": "",
     "output_type": "error",
     "traceback": [
      "\u001b[0;31m---------------------------------------------------------------------------\u001b[0m",
      "\u001b[0;31mKeyboardInterrupt\u001b[0m                         Traceback (most recent call last)",
      "\u001b[0;32m<timed exec>\u001b[0m in \u001b[0;36m<module>\u001b[0;34m\u001b[0m\n",
      "\u001b[0;32m/usr/local/lib/python3.7/dist-packages/gym/wrappers/time_limit.py\u001b[0m in \u001b[0;36mstep\u001b[0;34m(self, action)\u001b[0m\n\u001b[1;32m     14\u001b[0m     \u001b[0;32mdef\u001b[0m \u001b[0mstep\u001b[0m\u001b[0;34m(\u001b[0m\u001b[0mself\u001b[0m\u001b[0;34m,\u001b[0m \u001b[0maction\u001b[0m\u001b[0;34m)\u001b[0m\u001b[0;34m:\u001b[0m\u001b[0;34m\u001b[0m\u001b[0;34m\u001b[0m\u001b[0m\n\u001b[1;32m     15\u001b[0m         \u001b[0;32massert\u001b[0m \u001b[0mself\u001b[0m\u001b[0;34m.\u001b[0m\u001b[0m_elapsed_steps\u001b[0m \u001b[0;32mis\u001b[0m \u001b[0;32mnot\u001b[0m \u001b[0;32mNone\u001b[0m\u001b[0;34m,\u001b[0m \u001b[0;34m\"Cannot call env.step() before calling reset()\"\u001b[0m\u001b[0;34m\u001b[0m\u001b[0;34m\u001b[0m\u001b[0m\n\u001b[0;32m---> 16\u001b[0;31m         \u001b[0mobservation\u001b[0m\u001b[0;34m,\u001b[0m \u001b[0mreward\u001b[0m\u001b[0;34m,\u001b[0m \u001b[0mdone\u001b[0m\u001b[0;34m,\u001b[0m \u001b[0minfo\u001b[0m \u001b[0;34m=\u001b[0m \u001b[0mself\u001b[0m\u001b[0;34m.\u001b[0m\u001b[0menv\u001b[0m\u001b[0;34m.\u001b[0m\u001b[0mstep\u001b[0m\u001b[0;34m(\u001b[0m\u001b[0maction\u001b[0m\u001b[0;34m)\u001b[0m\u001b[0;34m\u001b[0m\u001b[0;34m\u001b[0m\u001b[0m\n\u001b[0m\u001b[1;32m     17\u001b[0m         \u001b[0mself\u001b[0m\u001b[0;34m.\u001b[0m\u001b[0m_elapsed_steps\u001b[0m \u001b[0;34m+=\u001b[0m \u001b[0;36m1\u001b[0m\u001b[0;34m\u001b[0m\u001b[0;34m\u001b[0m\u001b[0m\n\u001b[1;32m     18\u001b[0m         \u001b[0;32mif\u001b[0m \u001b[0mself\u001b[0m\u001b[0;34m.\u001b[0m\u001b[0m_elapsed_steps\u001b[0m \u001b[0;34m>=\u001b[0m \u001b[0mself\u001b[0m\u001b[0;34m.\u001b[0m\u001b[0m_max_episode_steps\u001b[0m\u001b[0;34m:\u001b[0m\u001b[0;34m\u001b[0m\u001b[0;34m\u001b[0m\u001b[0m\n",
      "\u001b[0;32m/usr/local/lib/python3.7/dist-packages/gym/envs/box2d/lunar_lander.py\u001b[0m in \u001b[0;36mstep\u001b[0;34m(self, action)\u001b[0m\n\u001b[1;32m    300\u001b[0m                                            True)\n\u001b[1;32m    301\u001b[0m \u001b[0;34m\u001b[0m\u001b[0m\n\u001b[0;32m--> 302\u001b[0;31m         \u001b[0mself\u001b[0m\u001b[0;34m.\u001b[0m\u001b[0mworld\u001b[0m\u001b[0;34m.\u001b[0m\u001b[0mStep\u001b[0m\u001b[0;34m(\u001b[0m\u001b[0;36m1.0\u001b[0m\u001b[0;34m/\u001b[0m\u001b[0mFPS\u001b[0m\u001b[0;34m,\u001b[0m \u001b[0;36m6\u001b[0m\u001b[0;34m*\u001b[0m\u001b[0;36m30\u001b[0m\u001b[0;34m,\u001b[0m \u001b[0;36m2\u001b[0m\u001b[0;34m*\u001b[0m\u001b[0;36m30\u001b[0m\u001b[0;34m)\u001b[0m\u001b[0;34m\u001b[0m\u001b[0;34m\u001b[0m\u001b[0m\n\u001b[0m\u001b[1;32m    303\u001b[0m \u001b[0;34m\u001b[0m\u001b[0m\n\u001b[1;32m    304\u001b[0m         \u001b[0mpos\u001b[0m \u001b[0;34m=\u001b[0m \u001b[0mself\u001b[0m\u001b[0;34m.\u001b[0m\u001b[0mlander\u001b[0m\u001b[0;34m.\u001b[0m\u001b[0mposition\u001b[0m\u001b[0;34m\u001b[0m\u001b[0;34m\u001b[0m\u001b[0m\n",
      "\u001b[0;31mKeyboardInterrupt\u001b[0m: "
     ]
    }
   ],
   "source": [
    "%%time\n",
    "# Set parameters for learning\n",
    "alpha = 0.2  # 0.2\n",
    "epsilon = 0.01 # 0.1\n",
    "gamma = 0.999  # 1\n",
    "\n",
    "# Create and initialize Q-value table to 0\n",
    "Q = np.ones(discr_vector + (env.action_space.n,))*100\n",
    "\n",
    "# Just to store the long-term-reward of the last 100 experiments \n",
    "scores = deque(maxlen=100)\n",
    "lrews = []\n",
    "lr = []\n",
    "\n",
    "for episode in range(1,10001):\n",
    "    done = False\n",
    "    R, reward = 0,0\n",
    "    state = d.Discretize(env.reset())\n",
    "    while done != True:\n",
    "            action = choose_action(state, epsilon) \n",
    "            obs, reward, done, info = env.step(action) \n",
    "            new_state = d.Discretize(obs)\n",
    "            Q[state][action] += alpha * (reward + gamma * np.max(Q[new_state]) - Q[state][action]) #3\n",
    "            R = gamma * R + reward\n",
    "            state = new_state   \n",
    "    lr.append(R)\n",
    "    scores.append(R)\n",
    "    mean_score = np.mean(scores)\n",
    "    lrews.append(np.mean(scores))\n",
    "    if mean_score >= 250 and episode >= 100:\n",
    "        print('Ran {} episodes. Solved after {} trials ✔'.format(episode, episode - 100))    \n",
    "        break\n",
    "    if episode % 100 == 0:\n",
    "        print('Episode {} Total Reward: {} Average Reward: {}'.format(episode,R,np.mean(scores)))\n"
   ]
  },
  {
   "cell_type": "markdown",
   "metadata": {},
   "source": [
    "This is how long term reward increses with episodes. Remember that long-term-reward represents the number of time steps before failure. We decided the task was learnt when the average long-term-reward of the last 100 experiences is higher than 200. "
   ]
  },
  {
   "cell_type": "code",
   "execution_count": 17,
   "metadata": {},
   "outputs": [
    {
     "data": {
      "image/png": "[encoded data removed]",
      "text/plain": [
       "<Figure size 432x288 with 1 Axes>"
      ]
     },
     "metadata": {
      "needs_background": "light"
     },
     "output_type": "display_data"
    }
   ],
   "source": [
    "plt.plot(lrews)\n",
    "plt.show()\n"
   ]
  },
  {
   "cell_type": "markdown",
   "metadata": {},
   "source": [
    "Notice that, being results shown are average of last 100 experiments, there is a \"delay\" of 100 episodes in detecting that desired behavior has been learnt. We could plot the actual reward for each episode, but is too varaible to see anything. It is better to average returns."
   ]
  },
  {
   "cell_type": "code",
   "execution_count": 23,
   "metadata": {},
   "outputs": [
    {
     "data": {
      "image/png": "[encoded data removed]",
      "text/plain": [
       "<Figure size 432x288 with 1 Axes>"
      ]
     },
     "metadata": {
      "needs_background": "light"
     },
     "output_type": "display_data"
    }
   ],
   "source": [
    "plt.plot(lr)\n",
    "plt.show()"
   ]
  },
  {
   "cell_type": "markdown",
   "metadata": {},
   "source": [
    "Why so many peaks? Remeber! We take random actions with probability $\\epsilon$. Notice difference in performance when we set epsilon to zero. That's because we use an off-policy method."
   ]
  },
  {
   "cell_type": "code",
   "execution_count": 53,
   "metadata": {},
   "outputs": [],
   "source": [
    "def rollout(epsilon, render=True):\n",
    "    done = False\n",
    "    R, reward = 0,0\n",
    "    state = d.Discretize(env.reset())\n",
    "    while done != True:\n",
    "            if render: \n",
    "                env.render()\n",
    "            action = choose_action(state, epsilon) \n",
    "            obs, reward, done, info = env.step(action) \n",
    "            R = gamma * R + reward\n",
    "            state = d.Discretize(obs)\n",
    "    return R\n",
    "\n",
    "for i in range(10):\n",
    "    rollout(epsilon)\n",
    "\n",
    "for i in range(10):\n",
    "    rollout(0)\n",
    "\n",
    "print('Average reward for epsilon',epsilon,':', np.mean([rollout(epsilon, render=False) for _ in range(20)]))\n",
    "print('Average reward for epsilon 0:', np.mean([rollout(0,render=False) for _ in range(20)]))"
   ]
  },
  {
   "cell_type": "markdown",
   "metadata": {},
   "source": [
    "But instead of stopping after return in last 100 experiments is higher than 200, let's iterate a fixed number of experiences"
   ]
  },
  {
   "cell_type": "code",
   "execution_count": 104,
   "metadata": {},
   "outputs": [
    {
     "data": {
      "image/png": "[encoded data removed]",
      "text/plain": [
       "<Figure size 432x288 with 1 Axes>"
      ]
     },
     "metadata": {
      "needs_background": "light"
     },
     "output_type": "display_data"
    }
   ],
   "source": [
    "# Set parameters for learning\n",
    "alpha = 0.2\n",
    "epsilon = 0.15\n",
    "gamma = 1.0\n",
    "\n",
    "# Create and initialize Q-value table to 0\n",
    "Q = np.zeros(discr_vector + (env.action_space.n,))\n",
    "\n",
    "# Just to store the long-term-reward of the last 100 experiments \n",
    "scores = deque(maxlen=100)\n",
    "lrews = []\n",
    "\n",
    "for episode in range(1,3001):\n",
    "    done = False\n",
    "    R, reward = 0,0\n",
    "    state = d.Discretize(env.reset())\n",
    "    while done != True:\n",
    "            action = choose_action(state, epsilon) \n",
    "            obs, reward, done, info = env.step(action) \n",
    "            new_state = d.Discretize(obs)\n",
    "            Q[state][action] += alpha * (reward + gamma * np.max(Q[new_state]) - Q[state][action]) #3\n",
    "            R = gamma * R + reward\n",
    "            state = new_state   \n",
    "    scores.append(R)\n",
    "    mean_score = np.mean(scores)\n",
    "    lrews.append(np.mean(scores))\n",
    "\n",
    "plt.plot(lrews)\n",
    "plt.show()"
   ]
  },
  {
   "cell_type": "markdown",
   "metadata": {},
   "source": [
    "Inestability can be produced because we had not good enough discretization and/or large alpha values and/or large epsilon values. \n"
   ]
  },
  {
   "cell_type": "markdown",
   "metadata": {},
   "source": [
    "Not bad. However, in RL results depend a lot on randomization, so it's a good thing repeat several times the same procedure"
   ]
  },
  {
   "cell_type": "code",
   "execution_count": 108,
   "metadata": {},
   "outputs": [
    {
     "name": "stdout",
     "output_type": "stream",
     "text": [
      "*** New experiment!\n",
      "*** New experiment!\n",
      "*** New experiment!\n",
      "*** New experiment!\n",
      "*** New experiment!\n",
      "*** New experiment!\n",
      "*** New experiment!\n",
      "*** New experiment!\n",
      "*** New experiment!\n",
      "*** New experiment!\n"
     ]
    }
   ],
   "source": [
    "l100rew=[]\n",
    "for _ in range(10):\n",
    "    print('*** New experiment!')\n",
    "    # Create and initialize Q-value table to 0\n",
    "    Q = np.zeros(discr_vector + (env.action_space.n,))\n",
    "\n",
    "    # Just to store the long-term-reward of the last 100 experiments \n",
    "    scores = deque(maxlen=100)\n",
    "    lrews = []\n",
    "\n",
    "    for episode in range(1,3001):\n",
    "        done = False\n",
    "        R, reward = 0,0\n",
    "        state = d.Discretize(env.reset())\n",
    "        while done != True:\n",
    "                action = choose_action(state, epsilon) \n",
    "                obs, reward, done, info = env.step(action) \n",
    "                new_state = d.Discretize(obs)\n",
    "                Q[state][action] += alpha * (reward + gamma * np.max(Q[new_state]) - Q[state][action]) #3\n",
    "                R = gamma * R + reward\n",
    "                state = new_state   \n",
    "        scores.append(R)\n",
    "        mean_score = np.mean(scores)\n",
    "        lrews.append(np.mean(scores))\n",
    "        #if mean_score >= 195 and episode >= 100:\n",
    "        #    print('Ran {} episodes. Solved after {} trials ✔'.format(episode, episode - 100))    \n",
    "        #    break\n",
    "        #if episode % 100 == 0:\n",
    "        #    print('Episode {} Total Reward: {} Average Reward: {}'.format(episode,G,np.mean(scores)))\n",
    "    l100rew.append(lrews)\n",
    "    \n",
    "    "
   ]
  },
  {
   "cell_type": "code",
   "execution_count": 159,
   "metadata": {
    "collapsed": true
   },
   "outputs": [
    {
     "data": {
      "text/html": [
       "<div>\n",
       "<style scoped>\n",
       "    .dataframe tbody tr th:only-of-type {\n",
       "        vertical-align: middle;\n",
       "    }\n",
       "\n",
       "    .dataframe tbody tr th {\n",
       "        vertical-align: top;\n",
       "    }\n",
       "\n",
       "    .dataframe thead th {\n",
       "        text-align: right;\n",
       "    }\n",
       "</style>\n",
       "<table border=\"1\" class=\"dataframe\">\n",
       "  <thead>\n",
       "    <tr style=\"text-align: right;\">\n",
       "      <th></th>\n",
       "      <th>iteration</th>\n",
       "      <th>reward</th>\n",
       "    </tr>\n",
       "  </thead>\n",
       "  <tbody>\n",
       "    <tr>\n",
       "      <th>0</th>\n",
       "      <td>0</td>\n",
       "      <td>-144.470286</td>\n",
       "    </tr>\n",
       "    <tr>\n",
       "      <th>1</th>\n",
       "      <td>1</td>\n",
       "      <td>-154.089986</td>\n",
       "    </tr>\n",
       "    <tr>\n",
       "      <th>2</th>\n",
       "      <td>2</td>\n",
       "      <td>-237.367940</td>\n",
       "    </tr>\n",
       "    <tr>\n",
       "      <th>3</th>\n",
       "      <td>3</td>\n",
       "      <td>-226.691001</td>\n",
       "    </tr>\n",
       "    <tr>\n",
       "      <th>4</th>\n",
       "      <td>4</td>\n",
       "      <td>-227.886540</td>\n",
       "    </tr>\n",
       "    <tr>\n",
       "      <th>...</th>\n",
       "      <td>...</td>\n",
       "      <td>...</td>\n",
       "    </tr>\n",
       "    <tr>\n",
       "      <th>29995</th>\n",
       "      <td>2995</td>\n",
       "      <td>-155.317237</td>\n",
       "    </tr>\n",
       "    <tr>\n",
       "      <th>29996</th>\n",
       "      <td>2996</td>\n",
       "      <td>-155.378578</td>\n",
       "    </tr>\n",
       "    <tr>\n",
       "      <th>29997</th>\n",
       "      <td>2997</td>\n",
       "      <td>-152.844595</td>\n",
       "    </tr>\n",
       "    <tr>\n",
       "      <th>29998</th>\n",
       "      <td>2998</td>\n",
       "      <td>-154.861493</td>\n",
       "    </tr>\n",
       "    <tr>\n",
       "      <th>29999</th>\n",
       "      <td>2999</td>\n",
       "      <td>-155.339210</td>\n",
       "    </tr>\n",
       "  </tbody>\n",
       "</table>\n",
       "<p>30000 rows × 2 columns</p>\n",
       "</div>"
      ],
      "text/plain": [
       "       iteration      reward\n",
       "0              0 -144.470286\n",
       "1              1 -154.089986\n",
       "2              2 -237.367940\n",
       "3              3 -226.691001\n",
       "4              4 -227.886540\n",
       "...          ...         ...\n",
       "29995       2995 -155.317237\n",
       "29996       2996 -155.378578\n",
       "29997       2997 -152.844595\n",
       "29998       2998 -154.861493\n",
       "29999       2999 -155.339210\n",
       "\n",
       "[30000 rows x 2 columns]"
      ]
     },
     "execution_count": 159,
     "metadata": {},
     "output_type": "execute_result"
    }
   ],
   "source": [
    "res = []\n",
    "for l in l100rew:\n",
    "    for i, val in zip(range(len(l)), l):\n",
    "        res.append([i,val])\n",
    "    \n",
    "dataframe = pd.DataFrame(res)\n",
    "dataframe.rename(columns={0:'iteration', 1:'reward'})\n"
   ]
  },
  {
   "cell_type": "code",
   "execution_count": 160,
   "metadata": {},
   "outputs": [
    {
     "data": {
      "text/plain": [
       "<matplotlib.axes._subplots.AxesSubplot at 0x7f3227fdccd0>"
      ]
     },
     "execution_count": 160,
     "metadata": {},
     "output_type": "execute_result"
    },
    {
     "data": {
      "image/png": "[encoded data removed]",
      "text/plain": [
       "<Figure size 432x288 with 1 Axes>"
      ]
     },
     "metadata": {
      "needs_background": "light"
     },
     "output_type": "display_data"
    }
   ],
   "source": [
    "# sns.tsplot(data=l100rew) #, err_style=\"unit_traces\")\n",
    "# sns.lineplot(x=range(len(l100rew[0])+1),y=l100rew) #, err_style=\"unit_traces\")\n",
    "# sns.lineplot(data= pd.DataFrame([[1,2,3], [1.5, 1.9, 3.1], [2, 3, 5]])) #, err_style=\"unit_traces\")\n",
    "sns.lineplot(x=0, y=1, data=dataframe) #, err_style=\"unit_traces\")\n",
    "# sns.plot(l100rew)\n",
    "# plt.show()"
   ]
  },
  {
   "cell_type": "code",
   "execution_count": 134,
   "metadata": {},
   "outputs": [
    {
     "data": {
      "text/html": [
       "<div>\n",
       "<style scoped>\n",
       "    .dataframe tbody tr th:only-of-type {\n",
       "        vertical-align: middle;\n",
       "    }\n",
       "\n",
       "    .dataframe tbody tr th {\n",
       "        vertical-align: top;\n",
       "    }\n",
       "\n",
       "    .dataframe thead th {\n",
       "        text-align: right;\n",
       "    }\n",
       "</style>\n",
       "<table border=\"1\" class=\"dataframe\">\n",
       "  <thead>\n",
       "    <tr style=\"text-align: right;\">\n",
       "      <th></th>\n",
       "      <th>subject</th>\n",
       "      <th>timepoint</th>\n",
       "      <th>event</th>\n",
       "      <th>region</th>\n",
       "      <th>signal</th>\n",
       "    </tr>\n",
       "  </thead>\n",
       "  <tbody>\n",
       "    <tr>\n",
       "      <th>0</th>\n",
       "      <td>s13</td>\n",
       "      <td>18</td>\n",
       "      <td>stim</td>\n",
       "      <td>parietal</td>\n",
       "      <td>-0.017552</td>\n",
       "    </tr>\n",
       "    <tr>\n",
       "      <th>1</th>\n",
       "      <td>s5</td>\n",
       "      <td>14</td>\n",
       "      <td>stim</td>\n",
       "      <td>parietal</td>\n",
       "      <td>-0.080883</td>\n",
       "    </tr>\n",
       "    <tr>\n",
       "      <th>2</th>\n",
       "      <td>s12</td>\n",
       "      <td>18</td>\n",
       "      <td>stim</td>\n",
       "      <td>parietal</td>\n",
       "      <td>-0.081033</td>\n",
       "    </tr>\n",
       "    <tr>\n",
       "      <th>3</th>\n",
       "      <td>s11</td>\n",
       "      <td>18</td>\n",
       "      <td>stim</td>\n",
       "      <td>parietal</td>\n",
       "      <td>-0.046134</td>\n",
       "    </tr>\n",
       "    <tr>\n",
       "      <th>4</th>\n",
       "      <td>s10</td>\n",
       "      <td>18</td>\n",
       "      <td>stim</td>\n",
       "      <td>parietal</td>\n",
       "      <td>-0.037970</td>\n",
       "    </tr>\n",
       "  </tbody>\n",
       "</table>\n",
       "</div>"
      ],
      "text/plain": [
       "  subject  timepoint event    region    signal\n",
       "0     s13         18  stim  parietal -0.017552\n",
       "1      s5         14  stim  parietal -0.080883\n",
       "2     s12         18  stim  parietal -0.081033\n",
       "3     s11         18  stim  parietal -0.046134\n",
       "4     s10         18  stim  parietal -0.037970"
      ]
     },
     "execution_count": 134,
     "metadata": {},
     "output_type": "execute_result"
    }
   ],
   "source": [
    "fmri = sns.load_dataset(\"fmri\")\n",
    "fmri.head()"
   ]
  },
  {
   "cell_type": "code",
   "execution_count": 133,
   "metadata": {},
   "outputs": [
    {
     "name": "stdout",
     "output_type": "stream",
     "text": [
      "3000\n",
      "3000\n",
      "3000\n",
      "3000\n",
      "3000\n",
      "3000\n",
      "3000\n",
      "3000\n",
      "3000\n",
      "3000\n"
     ]
    }
   ],
   "source": [
    "for l in l100rew:\n",
    "    print(len(l))"
   ]
  },
  {
   "cell_type": "markdown",
   "metadata": {},
   "source": [
    "Not very smooth and somewhat slow in learning. We could do better setting a variable alpha and epsilon (why?)\n",
    "\n",
    "$$ \\epsilon = \\max \\left( \\epsilon_{min}, 1- \\log \\frac{t+1}{tau} \\right) $$\n",
    "$$ \\alpha = \\max \\left( \\alpha_{min}, 1- \\log \\frac{t+1}{tau} \\right) $$"
   ]
  },
  {
   "cell_type": "code",
   "execution_count": 62,
   "metadata": {},
   "outputs": [
    {
     "data": {
      "image/png": "[encoded data removed]",
      "text/plain": [
       "<Figure size 432x288 with 1 Axes>"
      ]
     },
     "metadata": {
      "needs_background": "light"
     },
     "output_type": "display_data"
    }
   ],
   "source": [
    "min_alpha=0.05\n",
    "min_epsilon = 0.01\n",
    "tau = 70\n",
    "\n",
    "def set_epsilon(t, tau):\n",
    "    return max(min_epsilon, min(1, 1.0 - math.log10((t + 1) / tau)))\n",
    "\n",
    "def set_alpha(t, tau):\n",
    "    return max(min_alpha, min(1.0, 1.0 - math.log10((t + 1) / tau)))\n",
    "\n",
    "plt.plot([set_epsilon(i, tau) for i in range(3001)])\n",
    "plt.plot([set_alpha(i, tau) for i in range(3001)])\n",
    "plt.show()"
   ]
  },
  {
   "cell_type": "code",
   "execution_count": 26,
   "metadata": {},
   "outputs": [
    {
     "name": "stdout",
     "output_type": "stream",
     "text": [
      "*** New experiment!\n",
      "Episode: 50 Total Reward: -291.5358905830361 Average Reward: -179.44755298962377\n",
      "Episode: 100 Total Reward: -94.6560766961177 Average Reward: -170.53411888768304\n",
      "Episode: 150 Total Reward: -213.25597335755606 Average Reward: -152.7240865129341\n",
      "Episode: 200 Total Reward: -252.6410996583168 Average Reward: -136.68662881871037\n",
      "Episode: 250 Total Reward: -69.9591788898303 Average Reward: -125.55943301855075\n",
      "Episode: 300 Total Reward: -347.18432195213524 Average Reward: -123.06634441670317\n",
      "Episode: 350 Total Reward: -68.63653111074348 Average Reward: -129.1574925678046\n",
      "Episode: 400 Total Reward: -74.32056733776017 Average Reward: -131.26172551844977\n",
      "Episode: 450 Total Reward: -199.6956660333331 Average Reward: -139.94603504705546\n",
      "Episode: 500 Total Reward: -103.48150910499035 Average Reward: -150.54839918262286\n",
      "Episode: 550 Total Reward: -267.88077272881986 Average Reward: -160.84626372782762\n",
      "Episode: 600 Total Reward: -133.14981014615432 Average Reward: -151.19737387990708\n",
      "Episode: 650 Total Reward: 228.8884723530632 Average Reward: -130.0977393076212\n",
      "Episode: 700 Total Reward: -77.3006540152672 Average Reward: -144.1617464206094\n",
      "Episode: 750 Total Reward: -122.82185572090478 Average Reward: -156.35856405781485\n",
      "Episode: 800 Total Reward: -73.65656161693076 Average Reward: -144.70877954347398\n",
      "Episode: 850 Total Reward: 16.719492704309573 Average Reward: -142.35964241265202\n",
      "Episode: 900 Total Reward: -210.9739844101973 Average Reward: -139.81751633338342\n",
      "Episode: 950 Total Reward: -57.404403694819564 Average Reward: -145.01073326420968\n",
      "Episode: 1000 Total Reward: -77.05792160990318 Average Reward: -159.36187318298914\n",
      "Episode: 1050 Total Reward: -120.78735530407724 Average Reward: -136.68757242202426\n",
      "Episode: 1100 Total Reward: -32.5534235219762 Average Reward: -104.02010919434186\n",
      "Episode: 1150 Total Reward: -114.83911576505652 Average Reward: -95.43097436514546\n",
      "Episode: 1200 Total Reward: -42.92772256993745 Average Reward: -97.88043132890236\n",
      "Episode: 1250 Total Reward: -128.69213626465768 Average Reward: -108.08864806408401\n",
      "Episode: 1300 Total Reward: -241.95400766431644 Average Reward: -121.04273304673687\n",
      "Episode: 1350 Total Reward: -97.10459234479264 Average Reward: -131.67889052205143\n",
      "Episode: 1400 Total Reward: -123.21686685535288 Average Reward: -140.1933471736959\n",
      "Episode: 1450 Total Reward: -141.917786371788 Average Reward: -120.45862975132245\n",
      "Episode: 1500 Total Reward: -3.4379102793479035 Average Reward: -106.70985671273345\n",
      "Episode: 1550 Total Reward: -73.16780532172223 Average Reward: -104.26789886440852\n",
      "Episode: 1600 Total Reward: -226.33484050765236 Average Reward: -92.46967355886271\n",
      "Episode: 1650 Total Reward: 188.82000571171375 Average Reward: -109.35567964144549\n",
      "Episode: 1700 Total Reward: -43.169821897158 Average Reward: -123.58045018475553\n",
      "Episode: 1750 Total Reward: -198.94593400311237 Average Reward: -108.13971523940252\n",
      "Episode: 1800 Total Reward: -267.6169262430225 Average Reward: -112.41966043034357\n",
      "Episode: 1850 Total Reward: -159.91150685605504 Average Reward: -142.34424456363112\n",
      "Episode: 1900 Total Reward: -324.66900519743115 Average Reward: -159.140315450551\n",
      "Episode: 1950 Total Reward: -34.36328144238912 Average Reward: -130.22487590359714\n",
      "Episode: 2000 Total Reward: -76.34311508569265 Average Reward: -100.64608046878182\n",
      "Episode: 2050 Total Reward: -303.8544880919155 Average Reward: -121.92437522156952\n",
      "Episode: 2100 Total Reward: -160.65495555996148 Average Reward: -148.03651371656596\n",
      "Episode: 2150 Total Reward: -374.55758681591186 Average Reward: -127.47592397263837\n",
      "Episode: 2200 Total Reward: -129.0122092633879 Average Reward: -117.29193641202944\n",
      "Episode: 2250 Total Reward: -165.1738886323906 Average Reward: -117.7547970313577\n",
      "Episode: 2300 Total Reward: -30.191252621088182 Average Reward: -111.88403287802237\n",
      "Episode: 2350 Total Reward: -152.7516349699858 Average Reward: -109.59562806389816\n",
      "Episode: 2400 Total Reward: -87.36993178269279 Average Reward: -111.1175050773076\n",
      "Episode: 2450 Total Reward: -162.18498830697428 Average Reward: -116.17631584097852\n",
      "Episode: 2500 Total Reward: -13.787120458859135 Average Reward: -108.70023762903274\n",
      "Episode: 2550 Total Reward: -120.50167299169982 Average Reward: -112.91619846990126\n",
      "Episode: 2600 Total Reward: -38.80434239707087 Average Reward: -109.82898908006618\n",
      "Episode: 2650 Total Reward: -69.35050743715082 Average Reward: -111.93997346789814\n",
      "Episode: 2700 Total Reward: -172.0951137895819 Average Reward: -141.61633518403858\n",
      "Episode: 2750 Total Reward: -142.0677519895372 Average Reward: -158.17412829964238\n",
      "Episode: 2800 Total Reward: -159.48164151544648 Average Reward: -143.49360347123059\n",
      "Episode: 2850 Total Reward: -45.47794156364623 Average Reward: -119.9657209488911\n",
      "Episode: 2900 Total Reward: -101.71185489758442 Average Reward: -119.61348155365684\n",
      "Episode: 2950 Total Reward: -58.326545891723995 Average Reward: -120.07297815239053\n",
      "Episode: 3000 Total Reward: -31.015697766853208 Average Reward: -105.6647698171878\n"
     ]
    },
    {
     "ename": "AttributeError",
     "evalue": "module 'seaborn' has no attribute 'tsplot'",
     "output_type": "error",
     "traceback": [
      "\u001b[0;31m---------------------------------------------------------------------------\u001b[0m",
      "\u001b[0;31mAttributeError\u001b[0m                            Traceback (most recent call last)",
      "\u001b[0;32m<ipython-input-26-7c004a031bbe>\u001b[0m in \u001b[0;36m<module>\u001b[0;34m\u001b[0m\n\u001b[1;32m     30\u001b[0m     \u001b[0ml100rew\u001b[0m\u001b[0;34m.\u001b[0m\u001b[0mappend\u001b[0m\u001b[0;34m(\u001b[0m\u001b[0mlrews\u001b[0m\u001b[0;34m)\u001b[0m\u001b[0;34m\u001b[0m\u001b[0;34m\u001b[0m\u001b[0m\n\u001b[1;32m     31\u001b[0m \u001b[0;34m\u001b[0m\u001b[0m\n\u001b[0;32m---> 32\u001b[0;31m \u001b[0msns\u001b[0m\u001b[0;34m.\u001b[0m\u001b[0mtsplot\u001b[0m\u001b[0;34m(\u001b[0m\u001b[0mdata\u001b[0m\u001b[0;34m=\u001b[0m\u001b[0ml100rew\u001b[0m\u001b[0;34m)\u001b[0m \u001b[0;31m#, err_style=\"unit_traces\")\u001b[0m\u001b[0;34m\u001b[0m\u001b[0;34m\u001b[0m\u001b[0m\n\u001b[0m\u001b[1;32m     33\u001b[0m \u001b[0mplt\u001b[0m\u001b[0;34m.\u001b[0m\u001b[0mshow\u001b[0m\u001b[0;34m(\u001b[0m\u001b[0;34m)\u001b[0m\u001b[0;34m\u001b[0m\u001b[0;34m\u001b[0m\u001b[0m\n",
      "\u001b[0;31mAttributeError\u001b[0m: module 'seaborn' has no attribute 'tsplot'"
     ]
    }
   ],
   "source": [
    "l100rew=[]\n",
    "for i in range(5):\n",
    "    print('*** New experiment!')\n",
    "    # Create and initialize Q-value table to 0\n",
    "#     del Q\n",
    "    Q = np.zeros(discr_vector + (env.action_space.n,))\n",
    "\n",
    "    # Just to store the long-term-reward of the last 100 experiments \n",
    "    scores = deque(maxlen=100)\n",
    "    lrews = []\n",
    "    all_rewards = []\n",
    "\n",
    "    for episode in range(1,6001):\n",
    "        done = False\n",
    "        e = set_epsilon(episode, tau)\n",
    "        a = set_alpha(episode, tau)\n",
    "        R, reward = 0,0\n",
    "        state = d.Discretize(env.reset())\n",
    "        while done != True:\n",
    "                action = choose_action(state, e) \n",
    "                obs, reward, done, info = env.step(action) \n",
    "                new_state = d.Discretize(obs)\n",
    "                Q[state][action] += a * (reward + gamma * np.max(Q[new_state]) - Q[state][action]) #3\n",
    "                R = gamma * R + reward\n",
    "                state = new_state   \n",
    "        scores.append(R)\n",
    "        all_rewards.append(R)\n",
    "        mean_score = np.mean(scores)\n",
    "        if episode % 50 == 0:\n",
    "            print('Episode:', episode, 'Total Reward:', R, 'Average Reward:', mean_score)\n",
    "        lrews.append(np.mean(scores))\n",
    "    l100rew.append(lrews)\n",
    "    \n",
    "    save_arrays(Q, PATH='models/Q-learning/model{i}')\n",
    "    save_arrays(all_rewards, PATH=f'results/Q-learning/rewards5_{i}.dat')\n",
    "    \n",
    "# sns.tsplot(data=l100rew) #, err_style=\"unit_traces\")\n",
    "# plt.show()"
   ]
  },
  {
   "cell_type": "code",
   "execution_count": 28,
   "metadata": {},
   "outputs": [
    {
     "name": "stdout",
     "output_type": "stream",
     "text": [
      "Average reward for epsilon 0: -146.32862652279184\n"
     ]
    }
   ],
   "source": [
    "print('Average reward for epsilon 0:', np.mean([rollout(0,render=True) for _ in range(20)]))"
   ]
  },
  {
   "cell_type": "code",
   "execution_count": 56,
   "metadata": {},
   "outputs": [],
   "source": [
    "for _ in range(5):\n",
    "    rollout(0)"
   ]
  },
  {
   "cell_type": "markdown",
   "metadata": {},
   "source": [
    "## Exercises\n",
    "\n",
    "1. Play with parameters for discretization and see how they affect performance and convergence\n",
    "2. Try other methods to decrese $\\alpha$ and $\\epsilon$\n",
    "3. Try Boltzman exploration instead of $\\epsilon$ greedy\n",
    "4. Obtain Q-values for starting state. Is that strange? Can you explain/solve the problem using gamma different to 1? Try with gamma 0.99 for example.\n",
    "5. **Implement Monte-Carlo for this problem and compare performance and variance with Q-learning**\n",
    "6. **Implement n-steps Q-learning for this problem and compare performance with Q-learning**\n",
    "7. **Implement Sarsa on this problem**\n",
    "8. **Adapt everything has been done here to another Gym problem, f.i. Acrobot-v1 or MountainCar-v0**"
   ]
  },
  {
   "cell_type": "code",
   "execution_count": 25,
   "metadata": {},
   "outputs": [],
   "source": [
    "env.close()"
   ]
  },
  {
   "cell_type": "code",
   "execution_count": 17,
   "metadata": {},
   "outputs": [
    {
     "name": "stdout",
     "output_type": "stream",
     "text": [
      "Requirement already satisfied: gym in /usr/local/lib/python3.7/dist-packages (0.17.2)\n",
      "Requirement already satisfied: scipy in /usr/local/lib/python3.7/dist-packages (from gym) (1.4.1)\n",
      "Requirement already satisfied: numpy>=1.10.4 in /usr/local/lib/python3.7/dist-packages (from gym) (1.18.1)\n",
      "Requirement already satisfied: pyglet<=1.5.0,>=1.4.0 in /usr/local/lib/python3.7/dist-packages (from gym) (1.5.0)\n",
      "Requirement already satisfied: cloudpickle<1.4.0,>=1.2.0 in /usr/local/lib/python3.7/dist-packages (from gym) (1.3.0)\n",
      "Requirement already satisfied: future in /usr/local/lib/python3.7/dist-packages (from pyglet<=1.5.0,>=1.4.0->gym) (0.18.2)\n",
      "\u001b[33mWARNING: You are using pip version 19.2.3, however version 20.1.1 is available.\n",
      "You should consider upgrading via the 'pip install --upgrade pip' command.\u001b[0m\n",
      "E: Could not open lock file /var/lib/dpkg/lock-frontend - open (13: Permission denied)\n",
      "E: Unable to acquire the dpkg frontend lock (/var/lib/dpkg/lock-frontend), are you root?\n",
      "E: Could not open lock file /var/lib/dpkg/lock-frontend - open (13: Permission denied)\n",
      "E: Unable to acquire the dpkg frontend lock (/var/lib/dpkg/lock-frontend), are you root?\n",
      "Requirement already satisfied: gym[box2d] in /usr/local/lib/python3.7/dist-packages (0.17.2)\n",
      "Requirement already satisfied: scipy in /usr/local/lib/python3.7/dist-packages (from gym[box2d]) (1.4.1)\n",
      "Requirement already satisfied: pyglet<=1.5.0,>=1.4.0 in /usr/local/lib/python3.7/dist-packages (from gym[box2d]) (1.5.0)\n",
      "Requirement already satisfied: cloudpickle<1.4.0,>=1.2.0 in /usr/local/lib/python3.7/dist-packages (from gym[box2d]) (1.3.0)\n",
      "Requirement already satisfied: numpy>=1.10.4 in /usr/local/lib/python3.7/dist-packages (from gym[box2d]) (1.18.1)\n",
      "Requirement already satisfied: box2d-py~=2.3.5; extra == \"box2d\" in /usr/local/lib/python3.7/dist-packages (from gym[box2d]) (2.3.8)\n",
      "Requirement already satisfied: future in /usr/local/lib/python3.7/dist-packages (from pyglet<=1.5.0,>=1.4.0->gym[box2d]) (0.18.2)\n",
      "\u001b[33mWARNING: You are using pip version 19.2.3, however version 20.1.1 is available.\n",
      "You should consider upgrading via the 'pip install --upgrade pip' command.\u001b[0m\n"
     ]
    }
   ],
   "source": [
    "!pip install gym\n",
    "!apt-get install python-opengl -y\n",
    "!apt install xvfb -y\n",
    "!pip install gym[box2d]"
   ]
  },
  {
   "cell_type": "code",
   "execution_count": 41,
   "metadata": {},
   "outputs": [],
   "source": [
    "# gym.make('Reacher-v2')\n",
    "import gym\n",
    "env = gym.make(\"LunarLander-v2\")\n"
   ]
  },
  {
   "cell_type": "code",
   "execution_count": 42,
   "metadata": {},
   "outputs": [],
   "source": [
    "import test_opengym"
   ]
  },
  {
   "cell_type": "code",
   "execution_count": 12,
   "metadata": {},
   "outputs": [],
   "source": [
    "def save_model(model, PATH='model'):\n",
    "    torch.save(model, PATH)\n",
    "\n",
    "def load_model(PATH):\n",
    "    return torch.load(PATH)"
   ]
  },
  {
   "cell_type": "code",
   "execution_count": 13,
   "metadata": {},
   "outputs": [],
   "source": [
    "# with open('test22.txt', 'w') as f:\n",
    "#     np.save(f, np.array([1, 2]))\n",
    "#     np.save(f, np.array([1, 3]))\n",
    "def save_arrays(matrix, PATH):\n",
    "    np.savetxt(PATH, np.array(matrix) , fmt='%f')\n",
    "\n",
    "def load_arrays(PATH):\n",
    "    return np.loadtxt(PATH)\n"
   ]
  },
  {
   "cell_type": "markdown",
   "metadata": {},
   "source": [
    "# DQN\n"
   ]
  },
  {
   "cell_type": "code",
   "execution_count": 4,
   "metadata": {},
   "outputs": [],
   "source": [
    "import math, random\n",
    "\n",
    "import gym\n",
    "import numpy as np\n",
    "\n",
    "import torch\n",
    "import torch.nn as nn\n",
    "import torch.optim as optim\n",
    "import torch.autograd as autograd \n",
    "import torch.nn.functional as F\n",
    "\n",
    "from IPython.display import clear_output\n",
    "import matplotlib.pyplot as plt\n",
    "%matplotlib inline"
   ]
  },
  {
   "cell_type": "code",
   "execution_count": 5,
   "metadata": {},
   "outputs": [],
   "source": [
    "# Use CUDA\n",
    "USE_CUDA = torch.cuda.is_available()\n",
    "Variable = lambda *args, **kwargs: autograd.Variable(*args, **kwargs).cuda() if USE_CUDA else autograd.Variable(*args, **kwargs)"
   ]
  },
  {
   "cell_type": "markdown",
   "metadata": {},
   "source": [
    "## Buffer replay "
   ]
  },
  {
   "cell_type": "code",
   "execution_count": 6,
   "metadata": {},
   "outputs": [],
   "source": [
    "from collections import deque\n",
    "\n",
    "class ReplayBuffer(object):\n",
    "    def __init__(self, capacity):\n",
    "        self.buffer = deque(maxlen=capacity)\n",
    "    \n",
    "    def push(self, state, action, reward, next_state, done):\n",
    "        state      = np.expand_dims(state, 0)\n",
    "        next_state = np.expand_dims(next_state, 0)\n",
    "            \n",
    "        self.buffer.append((state, action, reward, next_state, done))\n",
    "    \n",
    "    def sample(self, batch_size):\n",
    "        state, action, reward, next_state, done = zip(*random.sample(self.buffer, batch_size))\n",
    "        return np.concatenate(state), action, reward, np.concatenate(next_state), done\n",
    "    \n",
    "    def __len__(self):\n",
    "        return len(self.buffer)"
   ]
  },
  {
   "cell_type": "markdown",
   "metadata": {},
   "source": [
    "## Prioritized Replay Buffer"
   ]
  },
  {
   "cell_type": "code",
   "execution_count": 7,
   "metadata": {},
   "outputs": [],
   "source": [
    "from data_structures import SumTree\n",
    "class PrioritizedBuffer:\n",
    "\n",
    "    def __init__(self, max_size, alpha=0.6, beta=0.4):\n",
    "        self.sum_tree = SumTree(max_size)\n",
    "        self.alpha = alpha\n",
    "        self.beta = beta\n",
    "        self.current_length = 0\n",
    "\n",
    "    def push(self, state, action, reward, next_state, done):\n",
    "        priority = 1.0 if self.current_length is 0 else self.sum_tree.tree.max()\n",
    "        self.current_length = self.current_length + 1\n",
    "        #priority = td_error ** self.alpha\n",
    "        experience = (state, action, np.array([reward]), next_state, done)\n",
    "        self.sum_tree.add(priority, experience)\n",
    "\n",
    "    def sample(self, batch_size):\n",
    "        batch_idx, batch, IS_weights = [], [], []\n",
    "        segment = self.sum_tree.total() / batch_size\n",
    "        p_sum = self.sum_tree.tree[0]\n",
    "\n",
    "        for i in range(batch_size):\n",
    "            a = segment * i\n",
    "            b = segment * (i + 1)\n",
    "\n",
    "            s = random.uniform(a, b)\n",
    "            idx, p, data = self.sum_tree.get(s)\n",
    "\n",
    "            batch_idx.append(idx)\n",
    "            batch.append(data)\n",
    "            prob = p / p_sum\n",
    "            IS_weight = (self.sum_tree.total() * prob) ** (-self.beta)\n",
    "            IS_weights.append(IS_weight)\n",
    "\n",
    "        state_batch = []\n",
    "        action_batch = []\n",
    "        reward_batch = []\n",
    "        next_state_batch = []\n",
    "        done_batch = []\n",
    "\n",
    "        for transition in batch:\n",
    "            if type(transition) == int or len(transition) < 5: \n",
    "                print(transition)\n",
    "                continue\n",
    "            state, action, reward, next_state, done = transition\n",
    "            state_batch.append(state)\n",
    "            action_batch.append(action)\n",
    "            reward_batch.append(reward)\n",
    "            next_state_batch.append(next_state)\n",
    "            done_batch.append(done)\n",
    "\n",
    "        return (state_batch, action_batch, reward_batch, next_state_batch, done_batch)#, batch_idx, IS_weights\n",
    "\n",
    "    def update_priority(self, idx, td_error):\n",
    "        priority = td_error ** self.alpha\n",
    "        self.sum_tree.update(idx, priority)\n",
    "\n",
    "    def __len__(self):\n",
    "        return self.current_length"
   ]
  },
  {
   "cell_type": "code",
   "execution_count": 8,
   "metadata": {},
   "outputs": [
    {
     "data": {
      "image/png": "[encoded data removed]",
      "text/plain": [
       "<Figure size 432x288 with 1 Axes>"
      ]
     },
     "metadata": {
      "needs_background": "light"
     },
     "output_type": "display_data"
    }
   ],
   "source": [
    "epsilon_start = 1.0\n",
    "epsilon_final = 0.01\n",
    "epsilon_decay = 500\n",
    "\n",
    "epsilon_by_frame = lambda frame_idx: epsilon_final + (epsilon_start - epsilon_final) * math.exp(-1. * frame_idx / epsilon_decay)\n",
    "# epsilon_by_frame = lambda frame_idx: max(epsilon_final, epsilon_start*(0.995**frame_idx))\n",
    "plt.plot([epsilon_by_frame(i) for i in range(5000)])\n",
    "plt.show()\n"
   ]
  },
  {
   "cell_type": "code",
   "execution_count": 9,
   "metadata": {},
   "outputs": [],
   "source": [
    "class DQN(nn.Module):\n",
    "    def __init__(self, num_inputs, num_actions):\n",
    "        super(DQN, self).__init__()\n",
    "        \n",
    "        self.layers = nn.Sequential(\n",
    "            nn.Linear(env.observation_space.shape[0], 128),\n",
    "#             nn.BatchNorm1d(num_features=64),\n",
    "            nn.ReLU(),            \n",
    "            nn.Linear(128, 128),\n",
    "#             nn.BatchNorm1d(num_features=32),\n",
    "            nn.ReLU(),\n",
    "            nn.Linear(128, env.action_space.n)\n",
    "        )\n",
    "        \n",
    "    def forward(self, x):\n",
    "        return self.layers(x)\n",
    "    \n",
    "    def act(self, state, epsilon):\n",
    "        if random.random() > epsilon:\n",
    "            state   = Variable(torch.FloatTensor(state).unsqueeze(0), requires_grad=False)\n",
    "            q_value = self.forward(state)\n",
    "            action  = q_value.max(1)[1].item()\n",
    "        else:\n",
    "            action = env.action_space.sample()\n",
    "#             action = random.randrange(env.action_space.n)\n",
    "        return action"
   ]
  },
  {
   "cell_type": "code",
   "execution_count": null,
   "metadata": {},
   "outputs": [],
   "source": []
  },
  {
   "cell_type": "code",
   "execution_count": 10,
   "metadata": {},
   "outputs": [],
   "source": [
    "# for p in model.parameters():\n",
    "#     print(p)"
   ]
  },
  {
   "cell_type": "code",
   "execution_count": 11,
   "metadata": {},
   "outputs": [],
   "source": [
    "\n",
    "model = DQN(env.observation_space.shape[0], env.action_space.n)\n",
    "\n",
    "if USE_CUDA:\n",
    "    model = model.cuda()\n",
    "    \n",
    "optimizer = optim.Adam(model.parameters(), lr=0.0001)\n",
    "\n",
    "replay_buffer = ReplayBuffer(10000)\n",
    "# replay_buffer = PrioritizedBuffer(10000)"
   ]
  },
  {
   "cell_type": "code",
   "execution_count": 14,
   "metadata": {},
   "outputs": [
    {
     "data": {
      "text/plain": [
       "Adam (\n",
       "Parameter Group 0\n",
       "    amsgrad: False\n",
       "    betas: (0.9, 0.999)\n",
       "    eps: 1e-08\n",
       "    lr: 0.0001\n",
       "    weight_decay: 0\n",
       ")"
      ]
     },
     "execution_count": 14,
     "metadata": {},
     "output_type": "execute_result"
    }
   ],
   "source": [
    "optimizer"
   ]
  },
  {
   "cell_type": "markdown",
   "metadata": {},
   "source": [
    "## Compute Temporal Differences Loss"
   ]
  },
  {
   "cell_type": "code",
   "execution_count": 19,
   "metadata": {},
   "outputs": [],
   "source": [
    "def compute_td_loss(batch_size):\n",
    "    state, action, reward, next_state, done = replay_buffer.sample(batch_size)\n",
    "\n",
    "    state      = Variable(torch.FloatTensor(np.float32(state)))\n",
    "    next_state = Variable(torch.FloatTensor(np.float32(next_state)), requires_grad=False)\n",
    "    action     = Variable(torch.LongTensor(action))\n",
    "    reward     = Variable(torch.FloatTensor(reward))\n",
    "    done       = Variable(torch.FloatTensor(done))\n",
    "\n",
    "    q_values      = model(state)\n",
    "    next_q_values = model(next_state)\n",
    "\n",
    "    q_value          = q_values.gather(1, action.unsqueeze(1)).squeeze(1)\n",
    "    next_q_value     = next_q_values.max(1)[0]\n",
    "    expected_q_value = reward + gamma * next_q_value * (1 - done)\n",
    "    \n",
    "    loss = (q_value - Variable(expected_q_value.data)).pow(2).mean()\n",
    "        \n",
    "    optimizer.zero_grad()\n",
    "    loss.backward()\n",
    "#     for param in model.parameters():\n",
    "#             param.grad.data.clamp_(-1, 1)\n",
    "    optimizer.step()\n",
    "    \n",
    "    return loss"
   ]
  },
  {
   "cell_type": "code",
   "execution_count": 27,
   "metadata": {},
   "outputs": [],
   "source": [
    "def plot(frame_idx, rewards, losses):\n",
    "    clear_output(True)\n",
    "    plt.figure(figsize=(20,5))\n",
    "    plt.subplot(131)\n",
    "    plt.title('frame %s. reward: %s' % (frame_idx, np.mean(rewards[-10:])))\n",
    "    plt.plot(rewards)\n",
    "    plt.subplot(132)\n",
    "    plt.title('loss')\n",
    "    plt.plot(losses)\n",
    "    plt.show()"
   ]
  },
  {
   "cell_type": "markdown",
   "metadata": {},
   "source": [
    "## Training"
   ]
  },
  {
   "cell_type": "code",
   "execution_count": 17,
   "metadata": {
    "scrolled": true
   },
   "outputs": [
    {
     "name": "stdout",
     "output_type": "stream",
     "text": [
      "Reached max_num_episodes=3000.8916343320513 Average Reward: 229.745015320978027576\n"
     ]
    },
    {
     "name": "stderr",
     "output_type": "stream",
     "text": [
      "/usr/local/lib/python3.7/dist-packages/torch/serialization.py:402: UserWarning: Couldn't retrieve source code for container of type DQN. It won't be checked for correctness upon loading.\n",
      "  \"type \" + obj.__name__ + \". It won't be checked \"\n"
     ]
    },
    {
     "name": "stdout",
     "output_type": "stream",
     "text": [
      "Reached max_num_episodes=30005.8727118457748 Average Reward: 254.758340599161027514\n",
      "Reached max_num_episodes=30007.82172327780341 Average Reward: 215.1670645895964436\n",
      "Reached max_num_episodes=3000.48106043713278 Average Reward: 230.23754588553996544\n",
      "Reached max_num_episodes=30001.897982226510603 Average Reward: 151.916618308636437\n",
      "CPU times: user 19h 16min 2s, sys: 3min 13s, total: 19h 19min 15s\n",
      "Wall time: 6h 29min 11s\n"
     ]
    }
   ],
   "source": [
    "%%time\n",
    "num_frames = 100000000\n",
    "num_episodes = 3000\n",
    "batch_size = 64\n",
    "gamma      = 0.99  # 0.99\n",
    "max_t = 1000\n",
    "\n",
    "rewards_array = []\n",
    "losses_array = []\n",
    "\n",
    "for i in range(5):\n",
    "    losses = []\n",
    "    all_rewards = []\n",
    "    episode_reward = 0\n",
    "    t = 0\n",
    "    \n",
    "    model = DQN(env.observation_space.shape[0], env.action_space.n)\n",
    "    if USE_CUDA:\n",
    "        model = model.cuda()\n",
    "    optimizer = optim.Adam(model.parameters(), lr=0.0001)\n",
    "    replay_buffer = ReplayBuffer(10000)\n",
    "\n",
    "    # action = env.action_space.sample()\n",
    "    # state, reward, done, _ = env.step(action)\n",
    "    # replay_buffer.push(state, action, reward, next_state, done)\n",
    "    # action = env.action_space.sample()\n",
    "    # state, reward, done, _ = env.step(action)\n",
    "    # replay_buffer.push(state, action, reward, next_state, done)\n",
    "\n",
    "    state = env.reset()\n",
    "    for frame_idx in range(1, num_frames + 1):\n",
    "\n",
    "        epsilon = epsilon_by_frame(frame_idx)\n",
    "        action = model.act(state, epsilon)\n",
    "\n",
    "        next_state, reward, done, _ = env.step(action)\n",
    "        replay_buffer.push(state, action, reward, next_state, done)\n",
    "\n",
    "        state = next_state\n",
    "        episode_reward += reward\n",
    "        t += 1\n",
    "\n",
    "        if done or t == 1000:\n",
    "            state = env.reset()\n",
    "            all_rewards.append(episode_reward)\n",
    "#             print(episode_reward)\n",
    "            episode_reward = 0\n",
    "            t = 0\n",
    "\n",
    "            if len(all_rewards) == num_episodes:\n",
    "                print(f'Reached max_num_episodes={num_episodes}')\n",
    "                break\n",
    "            if np.mean(all_rewards) >= 250:\n",
    "                print('\\rReached >=250 avg reward', end='\\r')\n",
    "                break\n",
    "\n",
    "        if len(replay_buffer) > batch_size:\n",
    "            loss = compute_td_loss(batch_size)\n",
    "            losses.append(loss.item())\n",
    "\n",
    "        if frame_idx % 1000 == 0:\n",
    "            print(f'\\rEpisode {len(all_rewards)} Total Reward: {episode_reward} Average Reward: {all_rewards[-1]}', end='\\r')\n",
    "    #         plot(frame_idx, all_rewards, losses)\n",
    "    rewards_array.append(all_rewards)\n",
    "    losses_array.append(losses)\n",
    "    save_model(model, PATH=f'models/DQN/model{i}')\n",
    "\n",
    "    save_arrays(all_rewards, PATH=f'results/DQN/rewards5_{i}.dat')\n",
    "    save_arrays(losses, PATH=f'results/DQN/losses5_{i}.dat')\n",
    "\n"
   ]
  },
  {
   "cell_type": "code",
   "execution_count": 29,
   "metadata": {},
   "outputs": [
    {
     "ename": "TypeError",
     "evalue": "Mismatch between array dtype ('object') and format specifier ('%f')",
     "output_type": "error",
     "traceback": [
      "\u001b[0;31m---------------------------------------------------------------------------\u001b[0m",
      "\u001b[0;31mTypeError\u001b[0m                                 Traceback (most recent call last)",
      "\u001b[0;32m/usr/local/lib/python3.7/dist-packages/numpy/lib/npyio.py\u001b[0m in \u001b[0;36msavetxt\u001b[0;34m(fname, X, fmt, delimiter, newline, header, footer, comments, encoding)\u001b[0m\n\u001b[1;32m   1446\u001b[0m                 \u001b[0;32mtry\u001b[0m\u001b[0;34m:\u001b[0m\u001b[0;34m\u001b[0m\u001b[0;34m\u001b[0m\u001b[0m\n\u001b[0;32m-> 1447\u001b[0;31m                     \u001b[0mv\u001b[0m \u001b[0;34m=\u001b[0m \u001b[0mformat\u001b[0m \u001b[0;34m%\u001b[0m \u001b[0mtuple\u001b[0m\u001b[0;34m(\u001b[0m\u001b[0mrow\u001b[0m\u001b[0;34m)\u001b[0m \u001b[0;34m+\u001b[0m \u001b[0mnewline\u001b[0m\u001b[0;34m\u001b[0m\u001b[0;34m\u001b[0m\u001b[0m\n\u001b[0m\u001b[1;32m   1448\u001b[0m                 \u001b[0;32mexcept\u001b[0m \u001b[0mTypeError\u001b[0m\u001b[0;34m:\u001b[0m\u001b[0;34m\u001b[0m\u001b[0;34m\u001b[0m\u001b[0m\n",
      "\u001b[0;31mTypeError\u001b[0m: must be real number, not list",
      "\nDuring handling of the above exception, another exception occurred:\n",
      "\u001b[0;31mTypeError\u001b[0m                                 Traceback (most recent call last)",
      "\u001b[0;32m<ipython-input-29-b1a54306ad96>\u001b[0m in \u001b[0;36m<module>\u001b[0;34m\u001b[0m\n\u001b[1;32m      1\u001b[0m \u001b[0msave_arrays\u001b[0m\u001b[0;34m(\u001b[0m\u001b[0mrewards_array\u001b[0m\u001b[0;34m,\u001b[0m \u001b[0mPATH\u001b[0m\u001b[0;34m=\u001b[0m\u001b[0;34m'results/DQN/rewards10.dat'\u001b[0m\u001b[0;34m)\u001b[0m\u001b[0;34m\u001b[0m\u001b[0;34m\u001b[0m\u001b[0m\n\u001b[0;32m----> 2\u001b[0;31m \u001b[0msave_arrays\u001b[0m\u001b[0;34m(\u001b[0m\u001b[0mlosses_array\u001b[0m\u001b[0;34m,\u001b[0m \u001b[0mPATH\u001b[0m\u001b[0;34m=\u001b[0m\u001b[0;34m'results/DQN/losses10.dat'\u001b[0m\u001b[0;34m)\u001b[0m\u001b[0;34m\u001b[0m\u001b[0;34m\u001b[0m\u001b[0m\n\u001b[0m",
      "\u001b[0;32m<ipython-input-7-e21c8c7c323b>\u001b[0m in \u001b[0;36msave_arrays\u001b[0;34m(matrix, PATH)\u001b[0m\n\u001b[1;32m      3\u001b[0m \u001b[0;31m#     np.save(f, np.array([1, 3]))\u001b[0m\u001b[0;34m\u001b[0m\u001b[0;34m\u001b[0m\u001b[0;34m\u001b[0m\u001b[0m\n\u001b[1;32m      4\u001b[0m \u001b[0;32mdef\u001b[0m \u001b[0msave_arrays\u001b[0m\u001b[0;34m(\u001b[0m\u001b[0mmatrix\u001b[0m\u001b[0;34m,\u001b[0m \u001b[0mPATH\u001b[0m\u001b[0;34m)\u001b[0m\u001b[0;34m:\u001b[0m\u001b[0;34m\u001b[0m\u001b[0;34m\u001b[0m\u001b[0m\n\u001b[0;32m----> 5\u001b[0;31m     \u001b[0mnp\u001b[0m\u001b[0;34m.\u001b[0m\u001b[0msavetxt\u001b[0m\u001b[0;34m(\u001b[0m\u001b[0mPATH\u001b[0m\u001b[0;34m,\u001b[0m \u001b[0mnp\u001b[0m\u001b[0;34m.\u001b[0m\u001b[0marray\u001b[0m\u001b[0;34m(\u001b[0m\u001b[0mmatrix\u001b[0m\u001b[0;34m)\u001b[0m \u001b[0;34m,\u001b[0m \u001b[0mfmt\u001b[0m\u001b[0;34m=\u001b[0m\u001b[0;34m'%f'\u001b[0m\u001b[0;34m)\u001b[0m\u001b[0;34m\u001b[0m\u001b[0;34m\u001b[0m\u001b[0m\n\u001b[0m\u001b[1;32m      6\u001b[0m \u001b[0;34m\u001b[0m\u001b[0m\n\u001b[1;32m      7\u001b[0m \u001b[0;32mdef\u001b[0m \u001b[0mload_arrays\u001b[0m\u001b[0;34m(\u001b[0m\u001b[0mPATH\u001b[0m\u001b[0;34m)\u001b[0m\u001b[0;34m:\u001b[0m\u001b[0;34m\u001b[0m\u001b[0;34m\u001b[0m\u001b[0m\n",
      "\u001b[0;32m<__array_function__ internals>\u001b[0m in \u001b[0;36msavetxt\u001b[0;34m(*args, **kwargs)\u001b[0m\n",
      "\u001b[0;32m/usr/local/lib/python3.7/dist-packages/numpy/lib/npyio.py\u001b[0m in \u001b[0;36msavetxt\u001b[0;34m(fname, X, fmt, delimiter, newline, header, footer, comments, encoding)\u001b[0m\n\u001b[1;32m   1449\u001b[0m                     raise TypeError(\"Mismatch between array dtype ('%s') and \"\n\u001b[1;32m   1450\u001b[0m                                     \u001b[0;34m\"format specifier ('%s')\"\u001b[0m\u001b[0;34m\u001b[0m\u001b[0;34m\u001b[0m\u001b[0m\n\u001b[0;32m-> 1451\u001b[0;31m                                     % (str(X.dtype), format))\n\u001b[0m\u001b[1;32m   1452\u001b[0m                 \u001b[0mfh\u001b[0m\u001b[0;34m.\u001b[0m\u001b[0mwrite\u001b[0m\u001b[0;34m(\u001b[0m\u001b[0mv\u001b[0m\u001b[0;34m)\u001b[0m\u001b[0;34m\u001b[0m\u001b[0;34m\u001b[0m\u001b[0m\n\u001b[1;32m   1453\u001b[0m \u001b[0;34m\u001b[0m\u001b[0m\n",
      "\u001b[0;31mTypeError\u001b[0m: Mismatch between array dtype ('object') and format specifier ('%f')"
     ]
    }
   ],
   "source": [
    "save_arrays(rewards_array, PATH='results/DQN/rewards10.dat')\n",
    "save_arrays(losses_array, PATH='results/DQN/losses10.dat')"
   ]
  },
  {
   "cell_type": "code",
   "execution_count": 37,
   "metadata": {},
   "outputs": [
    {
     "data": {
      "text/plain": [
       "[<matplotlib.lines.Line2D at 0x7ff4da3fab10>]"
      ]
     },
     "execution_count": 37,
     "metadata": {},
     "output_type": "execute_result"
    },
    {
     "data": {
      "image/png": "[encoded data removed]",
      "text/plain": [
       "<Figure size 432x288 with 1 Axes>"
      ]
     },
     "metadata": {
      "needs_background": "light"
     },
     "output_type": "display_data"
    }
   ],
   "source": [
    "plt.plot(rewards_array[4])"
   ]
  },
  {
   "cell_type": "code",
   "execution_count": 25,
   "metadata": {},
   "outputs": [
    {
     "name": "stdout",
     "output_type": "stream",
     "text": [
      "Episode 100\tAverage Score: -242.96\n",
      "Episode 200\tAverage Score: -274.75\n",
      "Episode 300\tAverage Score: -222.20\n",
      "Episode 304\tAverage Score: -226.22"
     ]
    },
    {
     "ename": "KeyboardInterrupt",
     "evalue": "",
     "output_type": "error",
     "traceback": [
      "\u001b[0;31m---------------------------------------------------------------------------\u001b[0m",
      "\u001b[0;31mKeyboardInterrupt\u001b[0m                         Traceback (most recent call last)",
      "\u001b[0;32m<ipython-input-25-2a3e77e991ba>\u001b[0m in \u001b[0;36m<module>\u001b[0;34m\u001b[0m\n\u001b[1;32m     25\u001b[0m     \u001b[0;32mfor\u001b[0m \u001b[0mt\u001b[0m \u001b[0;32min\u001b[0m \u001b[0mrange\u001b[0m\u001b[0;34m(\u001b[0m\u001b[0mmax_t\u001b[0m\u001b[0;34m)\u001b[0m\u001b[0;34m:\u001b[0m\u001b[0;34m\u001b[0m\u001b[0;34m\u001b[0m\u001b[0m\n\u001b[1;32m     26\u001b[0m         \u001b[0maction\u001b[0m \u001b[0;34m=\u001b[0m \u001b[0mmodel\u001b[0m\u001b[0;34m.\u001b[0m\u001b[0mact\u001b[0m\u001b[0;34m(\u001b[0m\u001b[0mstate\u001b[0m\u001b[0;34m,\u001b[0m \u001b[0meps\u001b[0m\u001b[0;34m)\u001b[0m\u001b[0;34m\u001b[0m\u001b[0;34m\u001b[0m\u001b[0m\n\u001b[0;32m---> 27\u001b[0;31m         \u001b[0mnext_state\u001b[0m\u001b[0;34m,\u001b[0m \u001b[0mreward\u001b[0m\u001b[0;34m,\u001b[0m \u001b[0mdone\u001b[0m\u001b[0;34m,\u001b[0m \u001b[0m_\u001b[0m \u001b[0;34m=\u001b[0m \u001b[0menv\u001b[0m\u001b[0;34m.\u001b[0m\u001b[0mstep\u001b[0m\u001b[0;34m(\u001b[0m\u001b[0maction\u001b[0m\u001b[0;34m)\u001b[0m\u001b[0;34m\u001b[0m\u001b[0;34m\u001b[0m\u001b[0m\n\u001b[0m\u001b[1;32m     28\u001b[0m         \u001b[0mreplay_buffer\u001b[0m\u001b[0;34m.\u001b[0m\u001b[0mpush\u001b[0m\u001b[0;34m(\u001b[0m\u001b[0mstate\u001b[0m\u001b[0;34m,\u001b[0m \u001b[0maction\u001b[0m\u001b[0;34m,\u001b[0m \u001b[0mreward\u001b[0m\u001b[0;34m,\u001b[0m \u001b[0mnext_state\u001b[0m\u001b[0;34m,\u001b[0m \u001b[0mdone\u001b[0m\u001b[0;34m)\u001b[0m\u001b[0;34m\u001b[0m\u001b[0;34m\u001b[0m\u001b[0m\n\u001b[1;32m     29\u001b[0m \u001b[0;31m#         agent.step(state, action, reward, next_state, done)\u001b[0m\u001b[0;34m\u001b[0m\u001b[0;34m\u001b[0m\u001b[0;34m\u001b[0m\u001b[0m\n",
      "\u001b[0;32m/usr/local/lib/python3.7/dist-packages/gym/wrappers/time_limit.py\u001b[0m in \u001b[0;36mstep\u001b[0;34m(self, action)\u001b[0m\n\u001b[1;32m     14\u001b[0m     \u001b[0;32mdef\u001b[0m \u001b[0mstep\u001b[0m\u001b[0;34m(\u001b[0m\u001b[0mself\u001b[0m\u001b[0;34m,\u001b[0m \u001b[0maction\u001b[0m\u001b[0;34m)\u001b[0m\u001b[0;34m:\u001b[0m\u001b[0;34m\u001b[0m\u001b[0;34m\u001b[0m\u001b[0m\n\u001b[1;32m     15\u001b[0m         \u001b[0;32massert\u001b[0m \u001b[0mself\u001b[0m\u001b[0;34m.\u001b[0m\u001b[0m_elapsed_steps\u001b[0m \u001b[0;32mis\u001b[0m \u001b[0;32mnot\u001b[0m \u001b[0;32mNone\u001b[0m\u001b[0;34m,\u001b[0m \u001b[0;34m\"Cannot call env.step() before calling reset()\"\u001b[0m\u001b[0;34m\u001b[0m\u001b[0;34m\u001b[0m\u001b[0m\n\u001b[0;32m---> 16\u001b[0;31m         \u001b[0mobservation\u001b[0m\u001b[0;34m,\u001b[0m \u001b[0mreward\u001b[0m\u001b[0;34m,\u001b[0m \u001b[0mdone\u001b[0m\u001b[0;34m,\u001b[0m \u001b[0minfo\u001b[0m \u001b[0;34m=\u001b[0m \u001b[0mself\u001b[0m\u001b[0;34m.\u001b[0m\u001b[0menv\u001b[0m\u001b[0;34m.\u001b[0m\u001b[0mstep\u001b[0m\u001b[0;34m(\u001b[0m\u001b[0maction\u001b[0m\u001b[0;34m)\u001b[0m\u001b[0;34m\u001b[0m\u001b[0;34m\u001b[0m\u001b[0m\n\u001b[0m\u001b[1;32m     17\u001b[0m         \u001b[0mself\u001b[0m\u001b[0;34m.\u001b[0m\u001b[0m_elapsed_steps\u001b[0m \u001b[0;34m+=\u001b[0m \u001b[0;36m1\u001b[0m\u001b[0;34m\u001b[0m\u001b[0;34m\u001b[0m\u001b[0m\n\u001b[1;32m     18\u001b[0m         \u001b[0;32mif\u001b[0m \u001b[0mself\u001b[0m\u001b[0;34m.\u001b[0m\u001b[0m_elapsed_steps\u001b[0m \u001b[0;34m>=\u001b[0m \u001b[0mself\u001b[0m\u001b[0;34m.\u001b[0m\u001b[0m_max_episode_steps\u001b[0m\u001b[0;34m:\u001b[0m\u001b[0;34m\u001b[0m\u001b[0;34m\u001b[0m\u001b[0m\n",
      "\u001b[0;32m/usr/local/lib/python3.7/dist-packages/gym/envs/box2d/lunar_lander.py\u001b[0m in \u001b[0;36mstep\u001b[0;34m(self, action)\u001b[0m\n\u001b[1;32m    300\u001b[0m                                            True)\n\u001b[1;32m    301\u001b[0m \u001b[0;34m\u001b[0m\u001b[0m\n\u001b[0;32m--> 302\u001b[0;31m         \u001b[0mself\u001b[0m\u001b[0;34m.\u001b[0m\u001b[0mworld\u001b[0m\u001b[0;34m.\u001b[0m\u001b[0mStep\u001b[0m\u001b[0;34m(\u001b[0m\u001b[0;36m1.0\u001b[0m\u001b[0;34m/\u001b[0m\u001b[0mFPS\u001b[0m\u001b[0;34m,\u001b[0m \u001b[0;36m6\u001b[0m\u001b[0;34m*\u001b[0m\u001b[0;36m30\u001b[0m\u001b[0;34m,\u001b[0m \u001b[0;36m2\u001b[0m\u001b[0;34m*\u001b[0m\u001b[0;36m30\u001b[0m\u001b[0;34m)\u001b[0m\u001b[0;34m\u001b[0m\u001b[0;34m\u001b[0m\u001b[0m\n\u001b[0m\u001b[1;32m    303\u001b[0m \u001b[0;34m\u001b[0m\u001b[0m\n\u001b[1;32m    304\u001b[0m         \u001b[0mpos\u001b[0m \u001b[0;34m=\u001b[0m \u001b[0mself\u001b[0m\u001b[0;34m.\u001b[0m\u001b[0mlander\u001b[0m\u001b[0;34m.\u001b[0m\u001b[0mposition\u001b[0m\u001b[0;34m\u001b[0m\u001b[0;34m\u001b[0m\u001b[0m\n",
      "\u001b[0;32m/usr/local/lib/python3.7/dist-packages/gym/envs/box2d/lunar_lander.py\u001b[0m in \u001b[0;36mBeginContact\u001b[0;34m(self, contact)\u001b[0m\n\u001b[1;32m     66\u001b[0m         \u001b[0mself\u001b[0m\u001b[0;34m.\u001b[0m\u001b[0menv\u001b[0m \u001b[0;34m=\u001b[0m \u001b[0menv\u001b[0m\u001b[0;34m\u001b[0m\u001b[0;34m\u001b[0m\u001b[0m\n\u001b[1;32m     67\u001b[0m \u001b[0;34m\u001b[0m\u001b[0m\n\u001b[0;32m---> 68\u001b[0;31m     \u001b[0;32mdef\u001b[0m \u001b[0mBeginContact\u001b[0m\u001b[0;34m(\u001b[0m\u001b[0mself\u001b[0m\u001b[0;34m,\u001b[0m \u001b[0mcontact\u001b[0m\u001b[0;34m)\u001b[0m\u001b[0;34m:\u001b[0m\u001b[0;34m\u001b[0m\u001b[0;34m\u001b[0m\u001b[0m\n\u001b[0m\u001b[1;32m     69\u001b[0m         \u001b[0;32mif\u001b[0m \u001b[0mself\u001b[0m\u001b[0;34m.\u001b[0m\u001b[0menv\u001b[0m\u001b[0;34m.\u001b[0m\u001b[0mlander\u001b[0m \u001b[0;34m==\u001b[0m \u001b[0mcontact\u001b[0m\u001b[0;34m.\u001b[0m\u001b[0mfixtureA\u001b[0m\u001b[0;34m.\u001b[0m\u001b[0mbody\u001b[0m \u001b[0;32mor\u001b[0m \u001b[0mself\u001b[0m\u001b[0;34m.\u001b[0m\u001b[0menv\u001b[0m\u001b[0;34m.\u001b[0m\u001b[0mlander\u001b[0m \u001b[0;34m==\u001b[0m \u001b[0mcontact\u001b[0m\u001b[0;34m.\u001b[0m\u001b[0mfixtureB\u001b[0m\u001b[0;34m.\u001b[0m\u001b[0mbody\u001b[0m\u001b[0;34m:\u001b[0m\u001b[0;34m\u001b[0m\u001b[0;34m\u001b[0m\u001b[0m\n\u001b[1;32m     70\u001b[0m             \u001b[0mself\u001b[0m\u001b[0;34m.\u001b[0m\u001b[0menv\u001b[0m\u001b[0;34m.\u001b[0m\u001b[0mgame_over\u001b[0m \u001b[0;34m=\u001b[0m \u001b[0;32mTrue\u001b[0m\u001b[0;34m\u001b[0m\u001b[0;34m\u001b[0m\u001b[0m\n",
      "\u001b[0;31mKeyboardInterrupt\u001b[0m: "
     ]
    }
   ],
   "source": [
    "\n",
    "n_episodes=2000\n",
    "max_t=1000\n",
    "eps_start=1.0\n",
    "eps_end=0.01\n",
    "eps_decay=0.995\n",
    "batch_size = 64\n",
    "gamma      = 0.9\n",
    "\"\"\"Deep Q-Learning.\n",
    "\n",
    "Params\n",
    "======\n",
    "    n_episodes (int): maximum number of training episodes\n",
    "    max_t (int): maximum number of timesteps per episode\n",
    "    eps_start (float): starting value of epsilon, for epsilon-greedy action selection\n",
    "    eps_end (float): minimum value of epsilon\n",
    "    eps_decay (float): multiplicative factor (per episode) for decreasing epsilon\n",
    "\"\"\"\n",
    "losses = []\n",
    "scores = []                        # list containing scores from each episode\n",
    "scores_window = deque(maxlen=100)  # last 100 scores\n",
    "eps = eps_start                    # initialize epsilon\n",
    "for i_episode in range(1, n_episodes+1):\n",
    "    state = env.reset()\n",
    "    score = 0\n",
    "    for t in range(max_t):\n",
    "        action = model.act(state, eps)\n",
    "        next_state, reward, done, _ = env.step(action)\n",
    "        replay_buffer.push(state, action, reward, next_state, done)\n",
    "#         agent.step(state, action, reward, next_state, done)\n",
    "        state = next_state\n",
    "        score += reward\n",
    "        if done:\n",
    "            break \n",
    "    scores_window.append(score)       # save most recent score\n",
    "    scores.append(score)              # save most recent score\n",
    "    eps = max(eps_end, eps_decay*eps) # decrease epsilon\n",
    "    \n",
    "    print('\\rEpisode {}\\tAverage Score: {:.2f}'.format(i_episode, np.mean(scores_window)), end=\"\")\n",
    "    if i_episode % 100 == 0:\n",
    "        print('\\rEpisode {}\\tAverage Score: {:.2f}'.format(i_episode, np.mean(scores_window)))\n",
    "    if len(replay_buffer) > batch_size:\n",
    "        loss = compute_td_loss(batch_size)\n",
    "        losses.append(loss.item())\n",
    "    if np.mean(scores_window)>=200.0:\n",
    "        print('\\nEnvironment solved in {:d} episodes!\\tAverage Score: {:.2f}'.format(i_episode-100, np.mean(scores_window)))\n",
    "#         torch.save(agent.qnetwork_local.state_dict(), 'checkpoint_Dueling_DDQN.pth')\n",
    "        break\n",
    "#     if i_episode % 500 == 0:\n",
    "#         plot(frame_idx, scores, losses)\n",
    "# return scores"
   ]
  },
  {
   "cell_type": "code",
   "execution_count": 9,
   "metadata": {},
   "outputs": [
    {
     "name": "stdout",
     "output_type": "stream",
     "text": [
      "Episode 100\tAverage Score: -164.67\n",
      "Episode 200\tAverage Score: -87.536\n",
      "Episode 300\tAverage Score: 11.560\n",
      "Episode 400\tAverage Score: 85.89\n",
      "Episode 500\tAverage Score: 70.57\n",
      "Episode 600\tAverage Score: 112.04\n",
      "Episode 700\tAverage Score: 169.75\n",
      "Episode 782\tAverage Score: 200.01\n",
      "Environment solved in 682 episodes!\tAverage Score: 200.01\n"
     ]
    },
    {
     "ename": "NameError",
     "evalue": "name 'torch' is not defined",
     "output_type": "error",
     "traceback": [
      "\u001b[0;31m---------------------------------------------------------------------------\u001b[0m",
      "\u001b[0;31mNameError\u001b[0m                                 Traceback (most recent call last)",
      "\u001b[0;32m<ipython-input-9-bd178a19f206>\u001b[0m in \u001b[0;36m<module>\u001b[0;34m\u001b[0m\n\u001b[1;32m     41\u001b[0m     \u001b[0;32mreturn\u001b[0m \u001b[0mscores\u001b[0m\u001b[0;34m\u001b[0m\u001b[0;34m\u001b[0m\u001b[0m\n\u001b[1;32m     42\u001b[0m \u001b[0;34m\u001b[0m\u001b[0m\n\u001b[0;32m---> 43\u001b[0;31m \u001b[0mscores\u001b[0m \u001b[0;34m=\u001b[0m \u001b[0mtrain\u001b[0m\u001b[0;34m(\u001b[0m\u001b[0;34m)\u001b[0m\u001b[0;34m\u001b[0m\u001b[0;34m\u001b[0m\u001b[0m\n\u001b[0m\u001b[1;32m     44\u001b[0m \u001b[0;34m\u001b[0m\u001b[0m\n\u001b[1;32m     45\u001b[0m \u001b[0;31m# plot the scores\u001b[0m\u001b[0;34m\u001b[0m\u001b[0;34m\u001b[0m\u001b[0;34m\u001b[0m\u001b[0m\n",
      "\u001b[0;32m<ipython-input-9-bd178a19f206>\u001b[0m in \u001b[0;36mtrain\u001b[0;34m(n_episodes, max_t, eps_start, eps_end, eps_decay)\u001b[0m\n\u001b[1;32m     37\u001b[0m         \u001b[0;32mif\u001b[0m \u001b[0mnp\u001b[0m\u001b[0;34m.\u001b[0m\u001b[0mmean\u001b[0m\u001b[0;34m(\u001b[0m\u001b[0mscores_window\u001b[0m\u001b[0;34m)\u001b[0m\u001b[0;34m>=\u001b[0m\u001b[0;36m200.0\u001b[0m\u001b[0;34m:\u001b[0m\u001b[0;34m\u001b[0m\u001b[0;34m\u001b[0m\u001b[0m\n\u001b[1;32m     38\u001b[0m             \u001b[0mprint\u001b[0m\u001b[0;34m(\u001b[0m\u001b[0;34m'\\nEnvironment solved in {:d} episodes!\\tAverage Score: {:.2f}'\u001b[0m\u001b[0;34m.\u001b[0m\u001b[0mformat\u001b[0m\u001b[0;34m(\u001b[0m\u001b[0mi_episode\u001b[0m\u001b[0;34m-\u001b[0m\u001b[0;36m100\u001b[0m\u001b[0;34m,\u001b[0m \u001b[0mnp\u001b[0m\u001b[0;34m.\u001b[0m\u001b[0mmean\u001b[0m\u001b[0;34m(\u001b[0m\u001b[0mscores_window\u001b[0m\u001b[0;34m)\u001b[0m\u001b[0;34m)\u001b[0m\u001b[0;34m)\u001b[0m\u001b[0;34m\u001b[0m\u001b[0;34m\u001b[0m\u001b[0m\n\u001b[0;32m---> 39\u001b[0;31m             \u001b[0mtorch\u001b[0m\u001b[0;34m.\u001b[0m\u001b[0msave\u001b[0m\u001b[0;34m(\u001b[0m\u001b[0magent\u001b[0m\u001b[0;34m.\u001b[0m\u001b[0mqnetwork_local\u001b[0m\u001b[0;34m.\u001b[0m\u001b[0mstate_dict\u001b[0m\u001b[0;34m(\u001b[0m\u001b[0;34m)\u001b[0m\u001b[0;34m,\u001b[0m \u001b[0;34m'checkpoint_Dueling_DDQN.pth'\u001b[0m\u001b[0;34m)\u001b[0m\u001b[0;34m\u001b[0m\u001b[0;34m\u001b[0m\u001b[0m\n\u001b[0m\u001b[1;32m     40\u001b[0m             \u001b[0;32mbreak\u001b[0m\u001b[0;34m\u001b[0m\u001b[0;34m\u001b[0m\u001b[0m\n\u001b[1;32m     41\u001b[0m     \u001b[0;32mreturn\u001b[0m \u001b[0mscores\u001b[0m\u001b[0;34m\u001b[0m\u001b[0;34m\u001b[0m\u001b[0m\n",
      "\u001b[0;31mNameError\u001b[0m: name 'torch' is not defined"
     ]
    }
   ],
   "source": [
    "from dqn_agent import Agent\n",
    "\n",
    "agent = Agent(state_size=8, action_size=4, seed=0)\n",
    "\n",
    "\n",
    "def train(n_episodes=2000, max_t=1000, eps_start=1.0, eps_end=0.01, eps_decay=0.995):\n",
    "    \"\"\"Deep Q-Learning.\n",
    "    \n",
    "    Params\n",
    "    ======\n",
    "        n_episodes (int): maximum number of training episodes\n",
    "        max_t (int): maximum number of timesteps per episode\n",
    "        eps_start (float): starting value of epsilon, for epsilon-greedy action selection\n",
    "        eps_end (float): minimum value of epsilon\n",
    "        eps_decay (float): multiplicative factor (per episode) for decreasing epsilon\n",
    "    \"\"\"\n",
    "    scores = []                        # list containing scores from each episode\n",
    "    scores_window = deque(maxlen=100)  # last 100 scores\n",
    "    eps = eps_start                    # initialize epsilon\n",
    "    for i_episode in range(1, n_episodes+1):\n",
    "        state = env.reset()\n",
    "        score = 0\n",
    "        for t in range(max_t):\n",
    "            action = agent.act(state, eps)\n",
    "            next_state, reward, done, _ = env.step(action)\n",
    "            agent.step(state, action, reward, next_state, done)\n",
    "            state = next_state\n",
    "            score += reward\n",
    "            if done:\n",
    "                break \n",
    "        scores_window.append(score)       # save most recent score\n",
    "        scores.append(score)              # save most recent score\n",
    "        eps = max(eps_end, eps_decay*eps) # decrease epsilon\n",
    "        print('\\rEpisode {}\\tAverage Score: {:.2f}'.format(i_episode, np.mean(scores_window)), end=\"\")\n",
    "        if i_episode % 100 == 0:\n",
    "            print('\\rEpisode {}\\tAverage Score: {:.2f}'.format(i_episode, np.mean(scores_window)))\n",
    "        if np.mean(scores_window)>=200.0:\n",
    "            print('\\nEnvironment solved in {:d} episodes!\\tAverage Score: {:.2f}'.format(i_episode-100, np.mean(scores_window)))\n",
    "            torch.save(agent.qnetwork_local.state_dict(), 'checkpoint_Dueling_DDQN.pth')\n",
    "            break\n",
    "    return scores\n",
    "\n",
    "scores = train()\n",
    "\n",
    "# plot the scores\n",
    "fig = plt.figure()\n",
    "ax = fig.add_subplot(111)\n",
    "plt.plot(np.arange(len(scores)), scores)\n",
    "plt.ylabel('Score')\n",
    "plt.xlabel('Episode #')\n",
    "plt.show()\n"
   ]
  },
  {
   "cell_type": "code",
   "execution_count": 124,
   "metadata": {},
   "outputs": [],
   "source": [
    "def moving_average(x, N):\n",
    "    cumsum = np.cumsum(np.insert(x, 0, 0)) \n",
    "    return (cumsum[N:] - cumsum[:-N]) / float(N)"
   ]
  },
  {
   "cell_type": "code",
   "execution_count": 68,
   "metadata": {},
   "outputs": [
    {
     "data": {
      "text/plain": [
       "500"
      ]
     },
     "execution_count": 68,
     "metadata": {},
     "output_type": "execute_result"
    }
   ],
   "source": [
    "100+150+70+60+70+50"
   ]
  },
  {
   "cell_type": "code",
   "execution_count": 304,
   "metadata": {},
   "outputs": [],
   "source": [
    "env.close()"
   ]
  },
  {
   "cell_type": "markdown",
   "metadata": {},
   "source": [
    "## Test learned policy"
   ]
  },
  {
   "cell_type": "code",
   "execution_count": 39,
   "metadata": {},
   "outputs": [],
   "source": [
    "# Let's compute the average return for 10 random trials and the number of timesteps\n",
    "def test_model(model, runs=5):\n",
    "    t=0\n",
    "    tsteps=0\n",
    "    treward=0\n",
    "    env.close()\n",
    "    for nexps in range(runs):   # Let's do 10 trials\n",
    "        done= False  \n",
    "        observation = env.reset() \n",
    "        while not done:\n",
    "            env.render()\n",
    "            action = model.act(observation, 0)\n",
    "            observation, reward, done, info = env.step(action) # take action from learned policy\n",
    "            treward = treward + reward\n",
    "            tsteps = tsteps + 1\n",
    "\n",
    "    print('Average reward',treward/10)\n",
    "    print('Average time steps before ending episode',tsteps/10)"
   ]
  },
  {
   "cell_type": "code",
   "execution_count": 40,
   "metadata": {},
   "outputs": [
    {
     "name": "stdout",
     "output_type": "stream",
     "text": [
      "Average reward 103.18983190524605\n",
      "Average time steps before ending episode 178.9\n"
     ]
    }
   ],
   "source": [
    "test_model(model)"
   ]
  },
  {
   "cell_type": "code",
   "execution_count": 122,
   "metadata": {},
   "outputs": [
    {
     "name": "stderr",
     "output_type": "stream",
     "text": [
      "/usr/local/lib/python3.7/dist-packages/torch/serialization.py:402: UserWarning: Couldn't retrieve source code for container of type DQN. It won't be checked for correctness upon loading.\n",
      "  \"type \" + obj.__name__ + \". It won't be checked \"\n"
     ]
    }
   ],
   "source": [
    "save_model(model, PATH='models/DQN/model')"
   ]
  },
  {
   "cell_type": "code",
   "execution_count": null,
   "metadata": {},
   "outputs": [],
   "source": []
  },
  {
   "cell_type": "code",
   "execution_count": null,
   "metadata": {},
   "outputs": [],
   "source": []
  },
  {
   "cell_type": "code",
   "execution_count": null,
   "metadata": {},
   "outputs": [],
   "source": []
  },
  {
   "cell_type": "markdown",
   "metadata": {},
   "source": [
    "# Double Deep Q Network"
   ]
  },
  {
   "cell_type": "code",
   "execution_count": 21,
   "metadata": {},
   "outputs": [],
   "source": [
    "current_model = DQN(env.observation_space.shape[0], env.action_space.n)\n",
    "target_model  = DQN(env.observation_space.shape[0], env.action_space.n)\n",
    "\n",
    "if USE_CUDA:\n",
    "    current_model = current_model.cuda()\n",
    "    target_model  = target_model.cuda()\n",
    "    \n",
    "optimizer = optim.Adam(current_model.parameters(), lr=0.0001)\n",
    "\n",
    "replay_buffer = ReplayBuffer(10000)"
   ]
  },
  {
   "cell_type": "code",
   "execution_count": 22,
   "metadata": {},
   "outputs": [
    {
     "data": {
      "text/plain": [
       "Adam (\n",
       "Parameter Group 0\n",
       "    amsgrad: False\n",
       "    betas: (0.9, 0.999)\n",
       "    eps: 1e-08\n",
       "    lr: 0.0001\n",
       "    weight_decay: 0\n",
       ")"
      ]
     },
     "execution_count": 22,
     "metadata": {},
     "output_type": "execute_result"
    }
   ],
   "source": [
    "optimizer"
   ]
  },
  {
   "cell_type": "markdown",
   "metadata": {},
   "source": [
    "### Synchronize current policy net and target net"
   ]
  },
  {
   "cell_type": "code",
   "execution_count": 23,
   "metadata": {},
   "outputs": [],
   "source": [
    "def update_target(current_model, target_model):\n",
    "    target_model.load_state_dict(current_model.state_dict())\n",
    "\n",
    "update_target(current_model, target_model)"
   ]
  },
  {
   "cell_type": "code",
   "execution_count": 24,
   "metadata": {},
   "outputs": [],
   "source": [
    "def compute_td_loss(batch_size):\n",
    "    state, action, reward, next_state, done = replay_buffer.sample(batch_size)\n",
    "\n",
    "    state      = Variable(torch.FloatTensor(np.float32(state)))\n",
    "    next_state = Variable(torch.FloatTensor(np.float32(next_state)))\n",
    "    action     = Variable(torch.LongTensor(action))\n",
    "    reward     = Variable(torch.FloatTensor(reward))\n",
    "    done       = Variable(torch.FloatTensor(done))\n",
    "\n",
    "    q_values      = current_model(state)\n",
    "    next_q_values = current_model(next_state)\n",
    "    next_q_state_values = target_model(next_state) \n",
    "\n",
    "    q_value      = q_values.gather(1, action.unsqueeze(1)).squeeze(1) \n",
    "    next_q_value = next_q_state_values.gather(1, torch.max(next_q_values, 1)[1].unsqueeze(1)).squeeze(1)\n",
    "    expected_q_value = reward + gamma * next_q_value * (1 - done)\n",
    "    \n",
    "    loss = (q_value - Variable(expected_q_value.data)).pow(2).mean()\n",
    "        \n",
    "    optimizer.zero_grad()\n",
    "    loss.backward()\n",
    "    optimizer.step()\n",
    "    \n",
    "    return loss"
   ]
  },
  {
   "cell_type": "code",
   "execution_count": 29,
   "metadata": {
    "scrolled": true
   },
   "outputs": [
    {
     "data": {
      "image/png": "[encoded data removed]",
      "text/plain": [
       "<Figure size 1440x360 with 2 Axes>"
      ]
     },
     "metadata": {
      "needs_background": "light"
     },
     "output_type": "display_data"
    },
    {
     "name": "stdout",
     "output_type": "stream",
     "text": [
      "Reached max_num_episodes=3000\n",
      "CPU times: user 9h 15min 59s, sys: 2min 34s, total: 9h 18min 34s\n",
      "Wall time: 3h 17min 3s\n"
     ]
    }
   ],
   "source": [
    "%%time\n",
    "\n",
    "num_frames = 2000000\n",
    "num_episodes = 3000\n",
    "batch_size = 64\n",
    "gamma      = 0.995\n",
    "\n",
    "rewards_array = []\n",
    "losses_array = []\n",
    "\n",
    "for i in range(3,5):\n",
    "    losses = []\n",
    "    all_rewards = []\n",
    "    episode_reward = 0\n",
    "    t = 0\n",
    "    \n",
    "    current_model = DQN(env.observation_space.shape[0], env.action_space.n)\n",
    "    target_model  = DQN(env.observation_space.shape[0], env.action_space.n)\n",
    "    if USE_CUDA:\n",
    "        current_model = current_model.cuda()\n",
    "        target_model  = target_model.cuda()\n",
    "    optimizer = optim.Adam(current_model.parameters(), lr=0.0001)\n",
    "    replay_buffer = ReplayBuffer(10000)\n",
    "    \n",
    "    state = env.reset()\n",
    "    for frame_idx in range(1, num_frames + 1):\n",
    "        epsilon = epsilon_by_frame(frame_idx)\n",
    "        action = current_model.act(state, epsilon)\n",
    "\n",
    "        next_state, reward, done, _ = env.step(action)\n",
    "        replay_buffer.push(state, action, reward, next_state, done)\n",
    "\n",
    "        state = next_state\n",
    "        episode_reward += reward\n",
    "        t += 1\n",
    "\n",
    "        if done or t == 1000:\n",
    "            state = env.reset()\n",
    "            all_rewards.append(episode_reward)\n",
    "#             print(episode_reward)\n",
    "#             print(np.mean(all_rewards[-50:]))\n",
    "            episode_reward = 0\n",
    "            t = 0\n",
    "            if len(all_rewards) == num_episodes:\n",
    "                print(f'Reached max_num_episodes={num_episodes}')\n",
    "                break\n",
    "            if np.mean(all_rewards[-50:]) >= 210:\n",
    "                print('\\rReached >=210 avg reward', end='\\r')\n",
    "\n",
    "        if len(replay_buffer) > batch_size: # and frame_idx%100 == 0:\n",
    "            loss = compute_td_loss(batch_size)\n",
    "            losses.append(loss.data.item())\n",
    "\n",
    "        if frame_idx % 2000 == 0:\n",
    "            print(f'\\rEpisode {len(all_rewards)} Total Reward: {episode_reward} Average Reward: {all_rewards[-1]}', end='\\r')\n",
    "            plot(frame_idx, all_rewards, losses)\n",
    "\n",
    "        if frame_idx % 100 == 0:\n",
    "            update_target(current_model, target_model)\n",
    "    \n",
    "    rewards_array.append(all_rewards)\n",
    "    losses_array.append(losses)\n",
    "    save_model(current_model, PATH=f'models/DDQN/model{i}')\n",
    "    save_arrays(all_rewards, PATH=f'results/DDQN/rewards5_{i}.dat')\n",
    "    save_arrays(losses, PATH=f'results/DDQN/losses5_{i}.dat')\n",
    "\n",
    "# save_arrays(reward_arrays, PATH='results/DDQN/rewards10.dat')\n",
    "# save_arrays(reward_arrays, PATH='results/DDQN/losses10.dat')"
   ]
  },
  {
   "cell_type": "code",
   "execution_count": 30,
   "metadata": {
    "scrolled": true
   },
   "outputs": [
    {
     "name": "stdout",
     "output_type": "stream",
     "text": [
      "Average reward -148.3685188923684\n",
      "Average time steps before ending episode 389.1\n"
     ]
    }
   ],
   "source": [
    "# Let's compute the average return for 10 random trials and the number of timesteps\n",
    "t=0\n",
    "tsteps=0\n",
    "treward=0\n",
    "env.close()\n",
    "for nexps in range(5):   # Let's do 5 trials\n",
    "    done= False  \n",
    "    observation = env.reset() \n",
    "    while not done:\n",
    "        env.render()\n",
    "        action = target_model.act(observation, 0)\n",
    "        observation, reward, done, info = env.step(action) # take action from learned policy\n",
    "        treward = treward + reward\n",
    "        tsteps = tsteps + 1\n",
    "\n",
    "print('Average reward',treward/10)\n",
    "print('Average time steps before ending episode',tsteps/10)"
   ]
  },
  {
   "cell_type": "code",
   "execution_count": 75,
   "metadata": {},
   "outputs": [
    {
     "name": "stdout",
     "output_type": "stream",
     "text": [
      "Average reward 131.612762340801\n",
      "Average time steps before ending episode 208.2\n"
     ]
    }
   ],
   "source": [
    "test_model(current_model)"
   ]
  },
  {
   "cell_type": "code",
   "execution_count": 44,
   "metadata": {},
   "outputs": [
    {
     "name": "stdout",
     "output_type": "stream",
     "text": [
      "Average reward 136.180580056123\n",
      "Average time steps before ending episode 115.2\n"
     ]
    }
   ],
   "source": [
    "PATH = 'models/DQN/model0'\n",
    "model_loaded = torch.load(PATH)\n",
    "test_model(model_loaded)"
   ]
  },
  {
   "cell_type": "code",
   "execution_count": 72,
   "metadata": {
    "scrolled": true
   },
   "outputs": [
    {
     "name": "stdout",
     "output_type": "stream",
     "text": [
      "Average reward 136.42245890014533\n",
      "Average time steps before ending episode 185.2\n"
     ]
    }
   ],
   "source": [
    "PATH = 'models/DDQN/model\n",
    "model_loaded = torch.load(PATH)\n",
    "test_model(model_loaded)"
   ]
  },
  {
   "cell_type": "code",
   "execution_count": 113,
   "metadata": {},
   "outputs": [],
   "source": [
    "save_arrays([all_rewards, np.array(all_rewards)-100], 'results/DDQN/rewards.dat')"
   ]
  },
  {
   "cell_type": "code",
   "execution_count": 128,
   "metadata": {},
   "outputs": [],
   "source": [
    "a = load_arrays('results/DDQN/rewards.dat')"
   ]
  },
  {
   "cell_type": "code",
   "execution_count": 138,
   "metadata": {},
   "outputs": [
    {
     "data": {
      "image/png": "[encoded data removed]",
      "text/plain": [
       "<Figure size 432x288 with 1 Axes>"
      ]
     },
     "metadata": {
      "needs_background": "light"
     },
     "output_type": "display_data"
    }
   ],
   "source": [
    "plt.plot(np.transpose(a)[:,0])\n",
    "plt.plot(moving_average(np.transpose(a)[:,0], 25))\n",
    "plt.show()"
   ]
  },
  {
   "cell_type": "code",
   "execution_count": 136,
   "metadata": {},
   "outputs": [
    {
     "data": {
      "text/plain": [
       "array([-107.703988, -673.47618 , -396.905461, ...,  257.794066,\n",
       "        293.50382 ,  239.470638])"
      ]
     },
     "execution_count": 136,
     "metadata": {},
     "output_type": "execute_result"
    }
   ],
   "source": [
    "a[0,:]"
   ]
  },
  {
   "cell_type": "code",
   "execution_count": null,
   "metadata": {},
   "outputs": [],
   "source": []
  },
  {
   "cell_type": "code",
   "execution_count": null,
   "metadata": {},
   "outputs": [],
   "source": []
  },
  {
   "cell_type": "markdown",
   "metadata": {},
   "source": [
    "# A2C"
   ]
  },
  {
   "cell_type": "code",
   "execution_count": 214,
   "metadata": {},
   "outputs": [
    {
     "ename": "ValueError",
     "evalue": "Cannot feed value of shape (1, 8) for Tensor 'Placeholder:0', which has shape '(?, 2)'",
     "output_type": "error",
     "traceback": [
      "\u001b[0;31m---------------------------------------------------------------------------\u001b[0m",
      "\u001b[0;31mValueError\u001b[0m                                Traceback (most recent call last)",
      "\u001b[0;32m<ipython-input-214-dce977764adf>\u001b[0m in \u001b[0;36m<module>\u001b[0;34m\u001b[0m\n\u001b[1;32m    101\u001b[0m             \u001b[0;31m#action.shape = (1,1)\u001b[0m\u001b[0;34m\u001b[0m\u001b[0;34m\u001b[0m\u001b[0;34m\u001b[0m\u001b[0m\n\u001b[1;32m    102\u001b[0m             action  = sess.run(action_tf_var, feed_dict={\n\u001b[0;32m--> 103\u001b[0;31m                           state_placeholder: scale_state(state)})\n\u001b[0m\u001b[1;32m    104\u001b[0m             \u001b[0;31m#Execute action and observe reward & next state from E\u001b[0m\u001b[0;34m\u001b[0m\u001b[0;34m\u001b[0m\u001b[0;34m\u001b[0m\u001b[0m\n\u001b[1;32m    105\u001b[0m             \u001b[0;31m# next_state shape=(2,)\u001b[0m\u001b[0;34m\u001b[0m\u001b[0;34m\u001b[0m\u001b[0;34m\u001b[0m\u001b[0m\n",
      "\u001b[0;32m/usr/local/lib/python3.7/dist-packages/tensorflow_core/python/client/session.py\u001b[0m in \u001b[0;36mrun\u001b[0;34m(self, fetches, feed_dict, options, run_metadata)\u001b[0m\n\u001b[1;32m    954\u001b[0m     \u001b[0;32mtry\u001b[0m\u001b[0;34m:\u001b[0m\u001b[0;34m\u001b[0m\u001b[0;34m\u001b[0m\u001b[0m\n\u001b[1;32m    955\u001b[0m       result = self._run(None, fetches, feed_dict, options_ptr,\n\u001b[0;32m--> 956\u001b[0;31m                          run_metadata_ptr)\n\u001b[0m\u001b[1;32m    957\u001b[0m       \u001b[0;32mif\u001b[0m \u001b[0mrun_metadata\u001b[0m\u001b[0;34m:\u001b[0m\u001b[0;34m\u001b[0m\u001b[0;34m\u001b[0m\u001b[0m\n\u001b[1;32m    958\u001b[0m         \u001b[0mproto_data\u001b[0m \u001b[0;34m=\u001b[0m \u001b[0mtf_session\u001b[0m\u001b[0;34m.\u001b[0m\u001b[0mTF_GetBuffer\u001b[0m\u001b[0;34m(\u001b[0m\u001b[0mrun_metadata_ptr\u001b[0m\u001b[0;34m)\u001b[0m\u001b[0;34m\u001b[0m\u001b[0;34m\u001b[0m\u001b[0m\n",
      "\u001b[0;32m/usr/local/lib/python3.7/dist-packages/tensorflow_core/python/client/session.py\u001b[0m in \u001b[0;36m_run\u001b[0;34m(self, handle, fetches, feed_dict, options, run_metadata)\u001b[0m\n\u001b[1;32m   1154\u001b[0m                 \u001b[0;34m'Cannot feed value of shape %r for Tensor %r, '\u001b[0m\u001b[0;34m\u001b[0m\u001b[0;34m\u001b[0m\u001b[0m\n\u001b[1;32m   1155\u001b[0m                 \u001b[0;34m'which has shape %r'\u001b[0m \u001b[0;34m%\u001b[0m\u001b[0;34m\u001b[0m\u001b[0;34m\u001b[0m\u001b[0m\n\u001b[0;32m-> 1156\u001b[0;31m                 (np_val.shape, subfeed_t.name, str(subfeed_t.get_shape())))\n\u001b[0m\u001b[1;32m   1157\u001b[0m           \u001b[0;32mif\u001b[0m \u001b[0;32mnot\u001b[0m \u001b[0mself\u001b[0m\u001b[0;34m.\u001b[0m\u001b[0mgraph\u001b[0m\u001b[0;34m.\u001b[0m\u001b[0mis_feedable\u001b[0m\u001b[0;34m(\u001b[0m\u001b[0msubfeed_t\u001b[0m\u001b[0;34m)\u001b[0m\u001b[0;34m:\u001b[0m\u001b[0;34m\u001b[0m\u001b[0;34m\u001b[0m\u001b[0m\n\u001b[1;32m   1158\u001b[0m             \u001b[0;32mraise\u001b[0m \u001b[0mValueError\u001b[0m\u001b[0;34m(\u001b[0m\u001b[0;34m'Tensor %s may not be fed.'\u001b[0m \u001b[0;34m%\u001b[0m \u001b[0msubfeed_t\u001b[0m\u001b[0;34m)\u001b[0m\u001b[0;34m\u001b[0m\u001b[0;34m\u001b[0m\u001b[0m\n",
      "\u001b[0;31mValueError\u001b[0m: Cannot feed value of shape (1, 8) for Tensor 'Placeholder:0', which has shape '(?, 2)'"
     ]
    }
   ],
   "source": [
    "import tensorflow as tf\n",
    "# import numpy as np\n",
    "# import gym  #requires OpenAI gym installed\n",
    "# env = gym.envs.make(\"MountainCarContinuous-v0\") \n",
    "\n",
    "tf.reset_default_graph()\n",
    "\n",
    "input_dims = 2\n",
    "state_placeholder = tf.placeholder(tf.float32, [None, input_dims]) \n",
    "\n",
    "def value_function(state):\n",
    "    n_hidden1 = 256  \n",
    "    n_hidden2 = 256\n",
    "    n_outputs = 1\n",
    "    \n",
    "    with tf.variable_scope(\"value_network\"):\n",
    "        init_xavier = tf.contrib.layers.xavier_initializer()\n",
    "        \n",
    "        hidden1 = tf.layers.dense(state, n_hidden1, tf.nn.elu, init_xavier)\n",
    "        hidden2 = tf.layers.dense(hidden1, n_hidden2, tf.nn.elu, init_xavier) \n",
    "        V = tf.layers.dense(hidden2, n_outputs, None, init_xavier)\n",
    "    return V\n",
    "\n",
    "\n",
    "def policy_network(state):\n",
    "    n_hidden1 = 32\n",
    "    n_hidden2 = 32\n",
    "    n_outputs = 1\n",
    "    \n",
    "    with tf.variable_scope(\"policy_network\"):\n",
    "        init_xavier = tf.contrib.layers.xavier_initializer()\n",
    "        \n",
    "        hidden1 = tf.layers.dense(state, n_hidden1, tf.nn.elu, init_xavier)\n",
    "        hidden2 = tf.layers.dense(hidden1, n_hidden2, tf.nn.elu, init_xavier)\n",
    "        mu = tf.layers.dense(hidden2, n_outputs, None, init_xavier)\n",
    "        sigma = tf.layers.dense(hidden2, n_outputs, None, init_xavier)\n",
    "        sigma = tf.nn.softplus(sigma) + 1e-5\n",
    "        norm_dist = tf.contrib.distributions.Normal(mu, sigma)\n",
    "        action_tf_var = tf.squeeze(norm_dist.sample(1), axis=0)\n",
    "#         print(tf.cast(action_tf_var,np.float32))\n",
    "#         print(np.squeeze(action_tf_var, axis=0))\n",
    "        action_tf_var = tf.clip_by_value(\n",
    "            action_tf_var, 0, \n",
    "            1)\n",
    "    return action_tf_var, norm_dist\n",
    "\n",
    "################################################################\n",
    "#sample from state space for state normalization\n",
    "import sklearn\n",
    "import sklearn.preprocessing\n",
    "                                    \n",
    "state_space_samples = np.array(\n",
    "    [env.observation_space.sample() for x in range(10000)])\n",
    "scaler = sklearn.preprocessing.StandardScaler()\n",
    "scaler.fit(state_space_samples)\n",
    "\n",
    "#function to normalize states\n",
    "def scale_state(state):                 #requires input shape=(2,)\n",
    "    scaled = scaler.transform([state])\n",
    "    return scaled                       #returns shape =(1,2)   \n",
    "###################################################################\n",
    "\n",
    "lr_actor = 0.00002  #set learning rates\n",
    "lr_critic = 0.001\n",
    "\n",
    "# define required placeholders\n",
    "action_placeholder = tf.placeholder(tf.float32)\n",
    "delta_placeholder = tf.placeholder(tf.float32)\n",
    "target_placeholder = tf.placeholder(tf.float32)\n",
    "\n",
    "action_tf_var, norm_dist = policy_network(state_placeholder)\n",
    "V = value_function(state_placeholder)\n",
    "\n",
    "# define actor (policy) loss function\n",
    "loss_actor = -tf.log(norm_dist.prob(action_placeholder) + 1e-5) * delta_placeholder\n",
    "training_op_actor = tf.train.AdamOptimizer(\n",
    "    lr_actor, name='actor_optimizer').minimize(loss_actor)\n",
    "\n",
    "# define critic (state-value) loss function\n",
    "loss_critic = tf.reduce_mean(tf.squared_difference(\n",
    "                             tf.squeeze(V), target_placeholder))\n",
    "training_op_critic = tf.train.AdamOptimizer(\n",
    "        lr_critic, name='critic_optimizer').minimize(loss_critic)\n",
    "################################################################\n",
    "#Training loop\n",
    "gamma = 0.99        #discount factor\n",
    "num_episodes = 300\n",
    "\n",
    "with tf.Session() as sess:\n",
    "    sess.run(tf.global_variables_initializer())\n",
    "    episode_history = []\n",
    "    for episode in range(num_episodes):\n",
    "        #receive initial state from E\n",
    "        state = env.reset()   # state.shape -> (2,)\n",
    "        reward_total = 0 \n",
    "        steps = 0\n",
    "        done = False\n",
    "        while (not done):\n",
    "                \n",
    "            #Sample action according to current policy\n",
    "            #action.shape = (1,1)\n",
    "            action  = sess.run(action_tf_var, feed_dict={\n",
    "                          state_placeholder: scale_state(state)})\n",
    "            #Execute action and observe reward & next state from E\n",
    "            # next_state shape=(2,)    \n",
    "            #env.step() requires input shape = (1,)\n",
    "            next_state, reward, done, _ = env.step(\n",
    "                                    np.squeeze(action, axis=0)) \n",
    "            steps +=1\n",
    "            reward_total += reward\n",
    "            #V_of_next_state.shape=(1,1)\n",
    "            V_of_next_state = sess.run(V, feed_dict = \n",
    "                    {state_placeholder: scale_state(next_state)})  \n",
    "            #Set TD Target\n",
    "            #target = r + gamma * V(next_state)     \n",
    "            target = reward + gamma * np.squeeze(V_of_next_state) \n",
    "            \n",
    "            # td_error = target - V(s)\n",
    "            #needed to feed delta_placeholder in actor training\n",
    "            td_error = target - np.squeeze(sess.run(V, feed_dict = \n",
    "                        {state_placeholder: scale_state(state)})) \n",
    "            \n",
    "            #Update actor by minimizing loss (Actor training)\n",
    "            _, loss_actor_val  = sess.run(\n",
    "                [training_op_actor, loss_actor], \n",
    "                feed_dict={action_placeholder: np.squeeze(action), \n",
    "                state_placeholder: scale_state(state), \n",
    "                delta_placeholder: td_error})\n",
    "            #Update critic by minimizinf loss  (Critic training)\n",
    "            _, loss_critic_val  = sess.run(\n",
    "                [training_op_critic, loss_critic], \n",
    "                feed_dict={state_placeholder: scale_state(state), \n",
    "                target_placeholder: target})\n",
    "            \n",
    "            state = next_state\n",
    "            #end while\n",
    "        episode_history.append(reward_total)\n",
    "        print(\"Episode: {}, Number of Steps : {}, Cumulative reward: {:0.2f}\".format(\n",
    "            episode, steps, reward_total))\n",
    "        \n",
    "        if np.mean(episode_history[-100:]) > 90 and len(episode_history) >= 101:\n",
    "            print(\"****************Solved***************\")\n",
    "            print(\"Mean cumulative reward over 100 episodes:{:0.2f}\" .format(\n",
    "                np.mean(episode_history[-100:])))"
   ]
  },
  {
   "cell_type": "code",
   "execution_count": 34,
   "metadata": {},
   "outputs": [],
   "source": [
    "import numpy as np\n",
    "import torch\n",
    "import gym\n",
    "from torch import nn\n",
    "from torch.nn import functional as F\n",
    "import matplotlib.pyplot as plt\n",
    "from torch.utils.tensorboard import SummaryWriter\n",
    "\n",
    "\n",
    "def mish(input):\n",
    "    return input * torch.tanh(F.softplus(input))\n",
    "\n",
    "class Mish(nn.Module):\n",
    "    def __init__(self): super().__init__()\n",
    "    def forward(self, input): return mish(input)\n",
    "\n",
    "# helper function to convert numpy arrays to tensors\n",
    "def t(x):\n",
    "    x = np.array(x) if not isinstance(x, np.ndarray) else x\n",
    "    return torch.from_numpy(x).float()\n",
    "\n",
    "class Actor(nn.Module):\n",
    "    def __init__(self, state_dim, n_actions, activation=nn.Tanh):\n",
    "        super().__init__()\n",
    "        self.n_actions = n_actions\n",
    "        self.model = nn.Sequential(\n",
    "            nn.Linear(state_dim, 64),\n",
    "            activation(),\n",
    "            nn.Linear(64, 64),\n",
    "            activation(),\n",
    "            nn.Linear(64, n_actions)\n",
    "        )\n",
    "        \n",
    "        logstds_param = nn.Parameter(torch.full((n_actions,), 0.1))\n",
    "        self.register_parameter(\"logstds\", logstds_param)\n",
    "    \n",
    "    def forward(self, X):\n",
    "        means = self.model(X)\n",
    "        stds = torch.clamp(self.logstds.exp(), 1e-3, 50)\n",
    "        \n",
    "        return torch.distributions.Normal(means, stds)\n",
    "\n",
    "## Critic module\n",
    "class Critic(nn.Module):\n",
    "    def __init__(self, state_dim, activation=nn.Tanh):\n",
    "        super().__init__()\n",
    "        self.model = nn.Sequential(\n",
    "            nn.Linear(state_dim, 64),\n",
    "            activation(),\n",
    "            nn.Linear(64, 64),\n",
    "            activation(),\n",
    "            nn.Linear(64, 1),\n",
    "        )\n",
    "    \n",
    "    def forward(self, X):\n",
    "        return self.model(X)\n",
    "\n",
    "def discounted_rewards(rewards, dones, gamma):\n",
    "    ret = 0\n",
    "    discounted = []\n",
    "    for reward, done in zip(rewards[::-1], dones[::-1]):\n",
    "        ret = reward + ret * gamma * (1-done)\n",
    "        discounted.append(ret)\n",
    "    \n",
    "    return discounted[::-1]\n",
    "\n",
    "def process_memory(memory, gamma=0.99, discount_rewards=True):\n",
    "    actions = []\n",
    "    states = []\n",
    "    next_states = []\n",
    "    rewards = []\n",
    "    dones = []\n",
    "\n",
    "    for action, reward, state, next_state, done in memory:\n",
    "        actions.append(action)\n",
    "        rewards.append(reward)\n",
    "        states.append(state)\n",
    "        next_states.append(next_state)\n",
    "        dones.append(done)\n",
    "    \n",
    "    if discount_rewards:\n",
    "        if False and dones[-1] == 0:\n",
    "            rewards = discounted_rewards(rewards + [last_value], dones + [0], gamma)[:-1]\n",
    "        else:\n",
    "            rewards = discounted_rewards(rewards, dones, gamma)\n",
    "\n",
    "    actions = t(actions).view(-1, 1)\n",
    "    states = t(states)\n",
    "    next_states = t(next_states)\n",
    "    rewards = t(rewards).view(-1, 1)\n",
    "    dones = t(dones).view(-1, 1)\n",
    "    return actions, rewards, states, next_states, dones\n",
    "\n",
    "def clip_grad_norm_(module, max_grad_norm):\n",
    "    nn.utils.clip_grad_norm_([p for g in module.param_groups for p in g[\"params\"]], max_grad_norm)\n",
    "\n",
    "class A2CLearner():\n",
    "    def __init__(self, actor, critic, gamma=0.9, entropy_beta=0,\n",
    "                 actor_lr=4e-4, critic_lr=4e-3, max_grad_norm=0.5):\n",
    "        self.gamma = gamma\n",
    "        self.max_grad_norm = max_grad_norm\n",
    "        self.actor = actor\n",
    "        self.critic = critic\n",
    "        self.entropy_beta = entropy_beta\n",
    "        self.actor_optim = torch.optim.Adam(actor.parameters(), lr=actor_lr)\n",
    "        self.critic_optim = torch.optim.Adam(critic.parameters(), lr=critic_lr)\n",
    "    \n",
    "    def learn(self, memory, steps, discount_rewards=True):\n",
    "        actions, rewards, states, next_states, dones = process_memory(memory, self.gamma, discount_rewards)\n",
    "\n",
    "        if discount_rewards:\n",
    "            td_target = rewards\n",
    "        else:\n",
    "            td_target = rewards + self.gamma*critic(next_states)*(1-dones)\n",
    "        value = critic(states)\n",
    "        advantage = td_target - value\n",
    "\n",
    "        # actor\n",
    "        norm_dists = self.actor(states)\n",
    "        print(states.shape, actions.shape, norm_dists.shape)\n",
    "        logs_probs = norm_dists.log_prob(actions)\n",
    "        entropy = norm_dists.entropy().mean()\n",
    "        \n",
    "        actor_loss = (-logs_probs*advantage.detach()).mean() - entropy*self.entropy_beta\n",
    "        self.actor_optim.zero_grad()\n",
    "        actor_loss.backward()\n",
    "        \n",
    "        clip_grad_norm_(self.actor_optim, self.max_grad_norm)\n",
    "        writer.add_histogram(\"gradients/actor\",\n",
    "                             torch.cat([p.grad.view(-1) for p in self.actor.parameters()]), global_step=steps)\n",
    "        writer.add_histogram(\"parameters/actor\",\n",
    "                             torch.cat([p.data.view(-1) for p in self.actor.parameters()]), global_step=steps)\n",
    "        self.actor_optim.step()\n",
    "\n",
    "        # critic\n",
    "        critic_loss = F.mse_loss(td_target, value)\n",
    "        self.critic_optim.zero_grad()\n",
    "        critic_loss.backward()\n",
    "        clip_grad_norm_(self.critic_optim, self.max_grad_norm)\n",
    "        writer.add_histogram(\"gradients/critic\",\n",
    "                             torch.cat([p.grad.view(-1) for p in self.critic.parameters()]), global_step=steps)\n",
    "        writer.add_histogram(\"parameters/critic\",\n",
    "                             torch.cat([p.data.view(-1) for p in self.critic.parameters()]), global_step=steps)\n",
    "        self.critic_optim.step()\n",
    "        \n",
    "        # reports\n",
    "        writer.add_scalar(\"losses/log_probs\", -logs_probs.mean(), global_step=steps)\n",
    "        writer.add_scalar(\"losses/entropy\", entropy, global_step=steps) \n",
    "        writer.add_scalar(\"losses/entropy_beta\", self.entropy_beta, global_step=steps) \n",
    "        writer.add_scalar(\"losses/actor\", actor_loss, global_step=steps)\n",
    "        writer.add_scalar(\"losses/advantage\", advantage.mean(), global_step=steps)\n",
    "        writer.add_scalar(\"losses/critic\", critic_loss, global_step=steps)\n",
    "\n",
    "class Runner():\n",
    "    def __init__(self, env):\n",
    "        self.env = env\n",
    "        self.state = None\n",
    "        self.done = True\n",
    "        self.steps = 0\n",
    "        self.episode_reward = 0\n",
    "        self.episode_rewards = []\n",
    "    \n",
    "    def reset(self):\n",
    "        self.episode_reward = 0\n",
    "        self.done = False\n",
    "        self.state = self.env.reset()\n",
    "    \n",
    "    def run(self, max_steps, memory=None):\n",
    "        if not memory: memory = []\n",
    "        \n",
    "        for i in range(max_steps):\n",
    "            if self.done: self.reset()\n",
    "            \n",
    "            dists = actor(t(self.state))\n",
    "            actions = dists.sample().detach().data.numpy()\n",
    "            actions_clipped = np.clip(actions, self.env.action_space.low.min(), env.action_space.high.max())\n",
    "\n",
    "            next_state, reward, self.done, info = self.env.step(actions_clipped)\n",
    "            memory.append((actions, reward, self.state, next_state, self.done))\n",
    "\n",
    "            self.state = next_state\n",
    "            self.steps += 1\n",
    "            self.episode_reward += reward\n",
    "            \n",
    "            if self.done:\n",
    "                self.episode_rewards.append(self.episode_reward)\n",
    "                if len(self.episode_rewards) % 10 == 0:\n",
    "                    print(\"episode:\", len(self.episode_rewards), \", episode reward:\", self.episode_reward)\n",
    "                writer.add_scalar(\"episode_reward\", self.episode_reward, global_step=self.steps)\n",
    "                    \n",
    "        \n",
    "        return memory"
   ]
  },
  {
   "cell_type": "code",
   "execution_count": 35,
   "metadata": {},
   "outputs": [
    {
     "ename": "AttributeError",
     "evalue": "'Normal' object has no attribute 'shape'",
     "output_type": "error",
     "traceback": [
      "\u001b[0;31m---------------------------------------------------------------------------\u001b[0m",
      "\u001b[0;31mAttributeError\u001b[0m                            Traceback (most recent call last)",
      "\u001b[0;32m<ipython-input-35-22b396a87a42>\u001b[0m in \u001b[0;36m<module>\u001b[0;34m\u001b[0m\n\u001b[1;32m     18\u001b[0m \u001b[0;32mfor\u001b[0m \u001b[0mi\u001b[0m \u001b[0;32min\u001b[0m \u001b[0mrange\u001b[0m\u001b[0;34m(\u001b[0m\u001b[0mtotal_steps\u001b[0m\u001b[0;34m)\u001b[0m\u001b[0;34m:\u001b[0m\u001b[0;34m\u001b[0m\u001b[0;34m\u001b[0m\u001b[0m\n\u001b[1;32m     19\u001b[0m     \u001b[0mmemory\u001b[0m \u001b[0;34m=\u001b[0m \u001b[0mrunner\u001b[0m\u001b[0;34m.\u001b[0m\u001b[0mrun\u001b[0m\u001b[0;34m(\u001b[0m\u001b[0msteps_on_memory\u001b[0m\u001b[0;34m)\u001b[0m\u001b[0;34m\u001b[0m\u001b[0;34m\u001b[0m\u001b[0m\n\u001b[0;32m---> 20\u001b[0;31m     \u001b[0mlearner\u001b[0m\u001b[0;34m.\u001b[0m\u001b[0mlearn\u001b[0m\u001b[0;34m(\u001b[0m\u001b[0mmemory\u001b[0m\u001b[0;34m,\u001b[0m \u001b[0mrunner\u001b[0m\u001b[0;34m.\u001b[0m\u001b[0msteps\u001b[0m\u001b[0;34m,\u001b[0m \u001b[0mdiscount_rewards\u001b[0m\u001b[0;34m=\u001b[0m\u001b[0;32mFalse\u001b[0m\u001b[0;34m)\u001b[0m\u001b[0;34m\u001b[0m\u001b[0;34m\u001b[0m\u001b[0m\n\u001b[0m",
      "\u001b[0;32m<ipython-input-34-2a6ae6965a2f>\u001b[0m in \u001b[0;36mlearn\u001b[0;34m(self, memory, steps, discount_rewards)\u001b[0m\n\u001b[1;32m    118\u001b[0m         \u001b[0;31m# actor\u001b[0m\u001b[0;34m\u001b[0m\u001b[0;34m\u001b[0m\u001b[0;34m\u001b[0m\u001b[0m\n\u001b[1;32m    119\u001b[0m         \u001b[0mnorm_dists\u001b[0m \u001b[0;34m=\u001b[0m \u001b[0mself\u001b[0m\u001b[0;34m.\u001b[0m\u001b[0mactor\u001b[0m\u001b[0;34m(\u001b[0m\u001b[0mstates\u001b[0m\u001b[0;34m)\u001b[0m\u001b[0;34m\u001b[0m\u001b[0;34m\u001b[0m\u001b[0m\n\u001b[0;32m--> 120\u001b[0;31m         \u001b[0mprint\u001b[0m\u001b[0;34m(\u001b[0m\u001b[0mstates\u001b[0m\u001b[0;34m.\u001b[0m\u001b[0mshape\u001b[0m\u001b[0;34m,\u001b[0m \u001b[0mactions\u001b[0m\u001b[0;34m.\u001b[0m\u001b[0mshape\u001b[0m\u001b[0;34m,\u001b[0m \u001b[0mnorm_dists\u001b[0m\u001b[0;34m.\u001b[0m\u001b[0mshape\u001b[0m\u001b[0;34m)\u001b[0m\u001b[0;34m\u001b[0m\u001b[0;34m\u001b[0m\u001b[0m\n\u001b[0m\u001b[1;32m    121\u001b[0m         \u001b[0mlogs_probs\u001b[0m \u001b[0;34m=\u001b[0m \u001b[0mnorm_dists\u001b[0m\u001b[0;34m.\u001b[0m\u001b[0mlog_prob\u001b[0m\u001b[0;34m(\u001b[0m\u001b[0mactions\u001b[0m\u001b[0;34m)\u001b[0m\u001b[0;34m\u001b[0m\u001b[0;34m\u001b[0m\u001b[0m\n\u001b[1;32m    122\u001b[0m         \u001b[0mentropy\u001b[0m \u001b[0;34m=\u001b[0m \u001b[0mnorm_dists\u001b[0m\u001b[0;34m.\u001b[0m\u001b[0mentropy\u001b[0m\u001b[0;34m(\u001b[0m\u001b[0;34m)\u001b[0m\u001b[0;34m.\u001b[0m\u001b[0mmean\u001b[0m\u001b[0;34m(\u001b[0m\u001b[0;34m)\u001b[0m\u001b[0;34m\u001b[0m\u001b[0;34m\u001b[0m\u001b[0m\n",
      "\u001b[0;31mAttributeError\u001b[0m: 'Normal' object has no attribute 'shape'"
     ]
    }
   ],
   "source": [
    "env = gym.make(\"LunarLanderContinuous-v2\")\n",
    "writer = SummaryWriter(\"runs/mish_activation\")\n",
    "\n",
    "# config\n",
    "state_dim = env.observation_space.shape[0]\n",
    "n_actions = env.action_space.shape[0]\n",
    "actor = Actor(state_dim, n_actions, activation=Mish)\n",
    "critic = Critic(state_dim, activation=Mish)\n",
    "\n",
    "learner = A2CLearner(actor, critic)\n",
    "runner = Runner(env)\n",
    "\n",
    "steps_on_memory = 16\n",
    "episodes = 500\n",
    "episode_length = 200\n",
    "total_steps = (episode_length*episodes)//steps_on_memory\n",
    "\n",
    "for i in range(total_steps):\n",
    "    memory = runner.run(steps_on_memory)\n",
    "    learner.learn(memory, runner.steps, discount_rewards=False)"
   ]
  },
  {
   "cell_type": "code",
   "execution_count": 213,
   "metadata": {},
   "outputs": [
    {
     "data": {
      "text/plain": [
       "(2,)"
      ]
     },
     "execution_count": 213,
     "metadata": {},
     "output_type": "execute_result"
    }
   ],
   "source": [
    "env.action_space.shape\n"
   ]
  },
  {
   "cell_type": "code",
   "execution_count": null,
   "metadata": {},
   "outputs": [],
   "source": []
  },
  {
   "cell_type": "code",
   "execution_count": null,
   "metadata": {},
   "outputs": [],
   "source": []
  },
  {
   "cell_type": "code",
   "execution_count": null,
   "metadata": {},
   "outputs": [],
   "source": []
  },
  {
   "cell_type": "code",
   "execution_count": null,
   "metadata": {},
   "outputs": [],
   "source": []
  },
  {
   "cell_type": "code",
   "execution_count": 11,
   "metadata": {
    "collapsed": true
   },
   "outputs": [
    {
     "name": "stdout",
     "output_type": "stream",
     "text": [
      "use_cuda :  False\n"
     ]
    },
    {
     "name": "stderr",
     "output_type": "stream",
     "text": [
      "usage: ipykernel_launcher.py [-h] [--gamma GAMMA] [--lr LR]\n",
      "                             [--num_episodes NUM_EPISODES]\n",
      "                             [--test_episodes TEST_EPISODES]\n",
      "                             [--num_steps NUM_STEPS] [--seed SEED]\n",
      "                             [--save_freq SAVE_FREQ] [--test_freq TEST_FREQ]\n",
      "                             [--save_path SAVE_PATH] [--expt_name EXPT_NAME]\n",
      "ipykernel_launcher.py: error: unrecognized arguments: -f /home/gonzalo/.local/share/jupyter/runtime/kernel-6ea55d73-83fc-4b6e-a2c0-a14596200e4a.json\n"
     ]
    },
    {
     "ename": "SystemExit",
     "evalue": "2",
     "output_type": "error",
     "traceback": [
      "An exception has occurred, use %tb to see the full traceback.\n",
      "\u001b[0;31mSystemExit\u001b[0m\u001b[0;31m:\u001b[0m 2\n"
     ]
    }
   ],
   "source": []
  },
  {
   "cell_type": "code",
   "execution_count": null,
   "metadata": {},
   "outputs": [],
   "source": []
  }
 ],
 "metadata": {
  "kernelspec": {
   "display_name": "Python 3",
   "language": "python",
   "name": "python3"
  },
  "language_info": {
   "codemirror_mode": {
    "name": "ipython",
    "version": 3
   },
   "file_extension": ".py",
   "mimetype": "text/x-python",
   "name": "python",
   "nbconvert_exporter": "python",
   "pygments_lexer": "ipython3",
   "version": "3.7.5"
  },
  "toc": {
   "base_numbering": 1,
   "nav_menu": {},
   "number_sections": true,
   "sideBar": true,
   "skip_h1_title": false,
   "title_cell": "Table of Contents",
   "title_sidebar": "Contents",
   "toc_cell": false,
   "toc_position": {},
   "toc_section_display": true,
   "toc_window_display": false
  }
 },
 "nbformat": 4,
 "nbformat_minor": 2
}
