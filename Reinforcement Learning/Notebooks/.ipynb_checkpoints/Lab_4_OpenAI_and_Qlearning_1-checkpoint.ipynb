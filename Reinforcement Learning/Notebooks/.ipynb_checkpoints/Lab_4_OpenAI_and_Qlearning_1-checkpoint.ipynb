{
 "cells": [
  {
   "cell_type": "markdown",
   "metadata": {},
   "source": [
    "# Introduction to OpenGym using the CartPole problem\n",
    "\n",
    "OpenGym is an standard testbed for RL algorithms. \n",
    "\n",
    "https://gym.openai.com/envs/#classic_control\n",
    "\n",
    "In this notebook we test our own implementation of Q-learning (see slides of Lecture 2) with OpenGym in the CartPole environment (see slides of Lecture 1)."
   ]
  },
  {
   "cell_type": "code",
   "execution_count": 2,
   "metadata": {},
   "outputs": [
    {
     "name": "stderr",
     "output_type": "stream",
     "text": [
      "[2020-04-15 15:51:32,754] Making new env: CartPole-v1\n"
     ]
    },
    {
     "data": {
      "text/plain": [
       "array([-0.03223939, -0.03398482,  0.0318835 , -0.01053955])"
      ]
     },
     "execution_count": 2,
     "metadata": {},
     "output_type": "execute_result"
    }
   ],
   "source": [
    "import numpy as np\n",
    "import math\n",
    "import matplotlib.pyplot as plt\n",
    "import seaborn as sns\n",
    "from collections import deque\n",
    "import pandas as pd\n",
    "\n",
    "import gym\n",
    "env = gym.make('CartPole-v1')\n",
    "env.reset()"
   ]
  },
  {
   "cell_type": "markdown",
   "metadata": {},
   "source": [
    "## Description of the environment\n",
    "\n",
    "OpenGym has not very good documentation. Usually you have to go to code to understand the details of the environment you want to use.\n",
    "\n",
    "In the case of the CartPole, go to:\n",
    "\n",
    "https://gym.openai.com/envs/CartPole-v1/\n",
    "\n",
    "Fortunately, there are some functions implemented that show the minimum necessary information to run the RL algorithms."
   ]
  },
  {
   "cell_type": "code",
   "execution_count": 3,
   "metadata": {},
   "outputs": [
    {
     "name": "stdout",
     "output_type": "stream",
     "text": [
      "Discrete(2)\n"
     ]
    }
   ],
   "source": [
    "# Two discrete actions in the environment (push towards each direction)\n",
    "print(env.action_space)"
   ]
  },
  {
   "cell_type": "markdown",
   "metadata": {},
   "source": [
    "Means 2 discrete possible actions. In this case:\n",
    "\n",
    "<table>\n",
    "<thead>\n",
    "<tr>\n",
    "<th>Num</th>\n",
    "<th>Action</th>\n",
    "</tr>\n",
    "</thead>\n",
    "<tbody>\n",
    "<tr>\n",
    "<td>0</td>\n",
    "<td>Push cart to the left</td>\n",
    "</tr>\n",
    "<tr>\n",
    "<td>1</td>\n",
    "<td>Push cart to the right</td>\n",
    "    </tr>\n",
    "</table>\n",
    "    \n",
    "Not because I found this information in documentation of the environment but in the code of the environment (https://github.com/openai/gym/blob/master/gym/envs/classic_control/cartpole.py#L13)"
   ]
  },
  {
   "cell_type": "code",
   "execution_count": 4,
   "metadata": {},
   "outputs": [
    {
     "name": "stdout",
     "output_type": "stream",
     "text": [
      "Box(4,)\n"
     ]
    }
   ],
   "source": [
    "# Four dimensional space.\n",
    "print(env.observation_space)"
   ]
  },
  {
   "cell_type": "markdown",
   "metadata": {},
   "source": [
    "That means *4 variables \"Continuous with Bounds\"* (box). \n",
    "\n",
    "There also exist **Discrete** observations.\n",
    "\n",
    "They can be organized as:\n",
    "\n",
    "- **Dictionary**, fi. Dict({\"position\": Discrete(5), \"velocity\": Box(low=np.array([0,0]),high=np.array([1,5]))}),\n",
    "- **Tuples** , fi. Tuple([Discrete(5), Box(low=np.array([0,0]),high=np.array([1,5]))]),\n",
    "- **Multidiscrete**, fi. MultiDiscrete([ 2, 2, 100]),"
   ]
  },
  {
   "cell_type": "code",
   "execution_count": 5,
   "metadata": {},
   "outputs": [
    {
     "name": "stdout",
     "output_type": "stream",
     "text": [
      "[4.80000000e+00 3.40282347e+38 4.18879020e-01 3.40282347e+38]\n",
      "[-4.80000000e+00 -3.40282347e+38 -4.18879020e-01 -3.40282347e+38]\n"
     ]
    }
   ],
   "source": [
    "# Show the limits of each variable\n",
    "\n",
    "print(env.observation_space.high)\n",
    "print(env.observation_space.low)"
   ]
  },
  {
   "cell_type": "markdown",
   "metadata": {},
   "source": [
    "<table>\n",
    "<thead>\n",
    "<tr>\n",
    "<th>Num</th>\n",
    "<th>Observation</th>\n",
    "<th>Min</th>\n",
    "<th>Max</th>\n",
    "</tr>\n",
    "</thead>\n",
    "<tbody>\n",
    "<tr>\n",
    "<td>0</td>\n",
    "<td>Cart Position</td>\n",
    "<td>-4.8</td>\n",
    "<td>4.8</td>\n",
    "</tr>\n",
    "<tr>\n",
    "<td>1</td>\n",
    "<td>Cart Velocity</td>\n",
    "<td>-&infin;</td>\n",
    "<td>&infin;</td>\n",
    "</tr>\n",
    "<tr>\n",
    "<td>2</td>\n",
    "<td>Pole Angle rads</td>\n",
    "<td>-0.42</td>\n",
    "<td>0.42</td>\n",
    "</tr>\n",
    "<tr>\n",
    "<td>3</td>\n",
    "<td>Pole Velocity At Tip</td>\n",
    "<td>-&infin;</td>\n",
    "<td>&infin;</td>"
   ]
  },
  {
   "cell_type": "markdown",
   "metadata": {},
   "source": [
    "## Acting in the environment\n",
    "\n",
    "The *step* method of the environment returns information after execution of an action (passed as parameter) in the *current* state of the environment. In fact, *step* method returns four values:\n",
    "\n",
    "- **observation** (*object*): an environment-specific object representing your observation of the environment after the action has been executed. Examples of observations are: pixels from a game screen, joint angles and joint velocities of a robot, or the board state in a board game.\n",
    "    \n",
    "- **reward** (*float*): immediate reward obtained after action execution. The scale depends on the environment, but the goal is always to increase your total reward.\n",
    "    \n",
    "- **done** (*boolean*): If trial has ended or note (terminal state). When True, it’s time to reset the environment again. Most (but not all) tasks are divided up into well-defined episodes, and *done* being True indicates the episode has terminated. (For example, perhaps the pole tipped too far, or you lost your last life in a game.)\n",
    "    \n",
    "- **info** (*dict*): diagnostic information useful for debugging. It can sometimes be useful for learning (for example, it might contain the raw probabilities behind the environment’s last state change). However, official evaluations of your agent are not allowed to use this info for learning.\n"
   ]
  },
  {
   "cell_type": "code",
   "execution_count": 6,
   "metadata": {},
   "outputs": [
    {
     "name": "stdout",
     "output_type": "stream",
     "text": [
      "s = [ 0.0032159   0.00427172  0.0029989  -0.01657057]\n",
      "a = 0\n",
      "r = 1.0\n",
      "s'= [ 0.00330133 -0.19089311  0.00266749  0.27705703]\n",
      "False\n"
     ]
    }
   ],
   "source": [
    "obs1 = env.reset()  # Starting state\n",
    "action = env.action_space.sample() # take a random action\n",
    "obs2, reward, done, info = env.step(action)  # take the action and observe results\n",
    "print('s =',obs1)  \n",
    "print('a =',action)\n",
    "print('r =',reward)\n",
    "print(\"s'=\",obs2)\n",
    "print(done)"
   ]
  },
  {
   "cell_type": "markdown",
   "metadata": {},
   "source": [
    "That's all the information we need in model-free RL algorithms!\n",
    "\n",
    "Let's execute now a sequence of random actions. Method *env.render* will show us a visualization of the environment."
   ]
  },
  {
   "cell_type": "code",
   "execution_count": 7,
   "metadata": {},
   "outputs": [],
   "source": [
    "# Generate one random trial\n",
    "obs1 = env.reset() \n",
    "done= False  \n",
    "while not done:\n",
    "    env.render()\n",
    "    observation, reward, done, info = env.step(env.action_space.sample()) # take a random action"
   ]
  },
  {
   "cell_type": "code",
   "execution_count": 8,
   "metadata": {},
   "outputs": [
    {
     "name": "stdout",
     "output_type": "stream",
     "text": [
      "Average reward 17.0\n",
      "Average time steps before ending episode 17.0\n"
     ]
    }
   ],
   "source": [
    "# Let's compute the average return for 10 random trials and the number of timesteps\n",
    "t=0\n",
    "tsteps=0\n",
    "treward=0\n",
    "for nexps in range(10):   # Let's do 10 trials\n",
    "    done= False  \n",
    "    env.reset() \n",
    "    while not done:\n",
    "        env.render()\n",
    "        observation, reward, done, info = env.step(env.action_space.sample()) # take a random action\n",
    "        treward = treward + reward\n",
    "        tsteps = tsteps + 1\n",
    "\n",
    "print('Average reward',treward/10)\n",
    "print('Average time steps before ending episode',tsteps/10)\n"
   ]
  },
  {
   "cell_type": "markdown",
   "metadata": {},
   "source": [
    "Trying to apply Q-learning, we have to define the table that will store the Q-value function. But we have a problem here, because our **states are defined by continuous variables**.\n",
    "\n",
    "One solution could be to discretize values by bining them.\n",
    "\n",
    "## Discretization of the state\n",
    "\n",
    "First we have to declare how many \"discrete\" states I will allow per variable, and later define the discretization procedure "
   ]
  },
  {
   "cell_type": "code",
   "execution_count": 9,
   "metadata": {},
   "outputs": [],
   "source": [
    "discr_vector = (1,3,10,20,)   # Resolution degrees: How many discrete states per variable. Play with this parameter!\n",
    "\n",
    "class Discretizer ():\n",
    "    \"\"\" mins: vector with minimim values allowed for each variable\n",
    "        maxs: vector with maximum values allowed for each variable\n",
    "    \"\"\"\n",
    "    def __init__(self, vector_discr, mins, maxs):\n",
    "        self.mins=mins\n",
    "        self.maxs=maxs\n",
    "        \n",
    "    def Discretize(self, obs):\n",
    "        ratios = [(obs[i] + abs(self.mins[i])) / (self.maxs[i] - self.mins[i]) for i in range(len(obs))]\n",
    "        new_obs = [int(round((discr_vector[i] - 1) * ratios[i])) for i in range(len(obs))]\n",
    "        new_obs = [min(discr_vector[i] - 1, max(0, new_obs[i])) for i in range(len(obs))]\n",
    "        return tuple(new_obs)\n",
    "\n",
    "# Create the discretizer with maxs and mins from the enviroment\n",
    "d = Discretizer(discr_vector, env.observation_space.low, env.observation_space.high)\n",
    "\n",
    "# It will not work because limits for two varaibles are almost infinite (in other case could work)"
   ]
  },
  {
   "cell_type": "code",
   "execution_count": 10,
   "metadata": {},
   "outputs": [
    {
     "name": "stdout",
     "output_type": "stream",
     "text": [
      "[-0.02580767 -0.00103157  0.00121954  0.0479983 ]\n"
     ]
    },
    {
     "data": {
      "text/plain": [
       "(0, 1, 5, 10)"
      ]
     },
     "execution_count": 10,
     "metadata": {},
     "output_type": "execute_result"
    }
   ],
   "source": [
    "obs1 = env.reset() \n",
    "print(obs1)\n",
    "d.Discretize(obs1)"
   ]
  },
  {
   "cell_type": "code",
   "execution_count": 11,
   "metadata": {},
   "outputs": [],
   "source": [
    "# Another approach. Try a lot of random actions and find maximum and minimum for each variable empirically\n",
    "# This approach also has some problems, because some states are found with very low probability.\n",
    "\n",
    "lO=np.zeros((100000,4))\n",
    "for nexp in range(10000):   # Let's do 10 trials\n",
    "    done= False  \n",
    "    env.reset() \n",
    "    while not done:\n",
    "        observation, reward, done, info = env.step(env.action_space.sample()) # take a random action\n",
    "        treward = treward + reward\n",
    "        tsteps = tsteps + 1\n",
    "        lO[nexp]=np.array(observation)        \n",
    "        \n",
    "maxv=[np.max(lO[:,i]) for i in range(lO.shape[1])]\n",
    "minv=[np.min(lO[:,i]) for i in range(lO.shape[1])]\n",
    "\n",
    "# Now we have a better discretization based on common values\n",
    "d = Discretizer(discr_vector, minv, maxv)\n",
    "\n",
    "# or even better\n",
    "minv = [env.observation_space.low[0], minv[1], env.observation_space.low[2], minv[3]]\n",
    "maxv = [env.observation_space.high[0], maxv[1], env.observation_space.high[2], maxv[3]]\n",
    "d = Discretizer(discr_vector, minv, maxv)"
   ]
  },
  {
   "cell_type": "markdown",
   "metadata": {},
   "source": [
    "## Q-learning implementation\n",
    "\n",
    "#### Define epsilon-greedy procedure"
   ]
  },
  {
   "cell_type": "code",
   "execution_count": 12,
   "metadata": {},
   "outputs": [],
   "source": [
    "def choose_action(state, epsilon):\n",
    "    return env.action_space.sample() if (np.random.random() <= epsilon) else np.argmax(Q[state])\n"
   ]
  },
  {
   "cell_type": "markdown",
   "metadata": {},
   "source": [
    "#### Implementation of Q-learning"
   ]
  },
  {
   "cell_type": "code",
   "execution_count": 13,
   "metadata": {},
   "outputs": [
    {
     "name": "stdout",
     "output_type": "stream",
     "text": [
      "Episode 100 Total Reward: 11.0 Average Reward: 10.63\n",
      "Episode 200 Total Reward: 11.0 Average Reward: 10.46\n",
      "Episode 300 Total Reward: 12.0 Average Reward: 11.37\n",
      "Episode 400 Total Reward: 13.0 Average Reward: 11.73\n",
      "Episode 500 Total Reward: 15.0 Average Reward: 11.51\n",
      "Episode 600 Total Reward: 13.0 Average Reward: 13.21\n",
      "Episode 700 Total Reward: 11.0 Average Reward: 12.59\n",
      "Episode 800 Total Reward: 13.0 Average Reward: 13.04\n",
      "Episode 900 Total Reward: 16.0 Average Reward: 13.06\n",
      "Episode 1000 Total Reward: 15.0 Average Reward: 13.43\n",
      "Episode 1100 Total Reward: 13.0 Average Reward: 13.15\n",
      "Episode 1200 Total Reward: 16.0 Average Reward: 13.16\n",
      "Episode 1300 Total Reward: 13.0 Average Reward: 12.75\n",
      "Episode 1400 Total Reward: 12.0 Average Reward: 13.13\n",
      "Episode 1500 Total Reward: 17.0 Average Reward: 13.18\n",
      "Episode 1600 Total Reward: 15.0 Average Reward: 16.42\n",
      "Episode 1700 Total Reward: 43.0 Average Reward: 17.49\n",
      "Episode 1800 Total Reward: 14.0 Average Reward: 46.85\n",
      "Ran 1889 episodes. Solved after 1789 trials ✔\n"
     ]
    }
   ],
   "source": [
    "# Set parameters for learning\n",
    "alpha = 0.2\n",
    "epsilon = 0.1\n",
    "gamma = 1\n",
    "\n",
    "# Create and initialize Q-value table to 0\n",
    "Q = np.zeros(discr_vector + (env.action_space.n,))\n",
    "\n",
    "# Just to store the long-term-reward of the last 100 experiments \n",
    "scores = deque(maxlen=100)\n",
    "lrews = []\n",
    "lr = []\n",
    "\n",
    "for episode in range(1,10001):\n",
    "    done = False\n",
    "    R, reward = 0,0\n",
    "    state = d.Discretize(env.reset())\n",
    "    while done != True:\n",
    "            action = choose_action(state, epsilon) \n",
    "            obs, reward, done, info = env.step(action) \n",
    "            new_state = d.Discretize(obs)\n",
    "            Q[state][action] += alpha * (reward + gamma * np.max(Q[new_state]) - Q[state][action]) #3\n",
    "            R = gamma * R + reward\n",
    "            state = new_state   \n",
    "    lr.append(R)\n",
    "    scores.append(R)\n",
    "    mean_score = np.mean(scores)\n",
    "    lrews.append(np.mean(scores))\n",
    "    if mean_score >= 250 and episode >= 100:\n",
    "        print('Ran {} episodes. Solved after {} trials ✔'.format(episode, episode - 100))    \n",
    "        break\n",
    "    if episode % 100 == 0:\n",
    "        print('Episode {} Total Reward: {} Average Reward: {}'.format(episode,R,np.mean(scores)))\n"
   ]
  },
  {
   "cell_type": "markdown",
   "metadata": {},
   "source": [
    "This is how long term reward increses with episodes. Remember that long-term-reward represents the number of time steps before failure. We decided the task was learnt when the average long-term-reward of the last 100 experiences is higher than 200. "
   ]
  },
  {
   "cell_type": "code",
   "execution_count": 14,
   "metadata": {},
   "outputs": [
    {
     "data": {
      "image/png": "[encoded data removed]",
      "text/plain": [
       "<Figure size 432x288 with 1 Axes>"
      ]
     },
     "metadata": {
      "needs_background": "light"
     },
     "output_type": "display_data"
    }
   ],
   "source": [
    "plt.plot(lrews)\n",
    "plt.show()\n"
   ]
  },
  {
   "cell_type": "markdown",
   "metadata": {},
   "source": [
    "Notice that, being results shown are average of last 100 experiments, there is a \"delay\" of 100 episodes in detecting that desired behavior has been learnt. We could plot the actual reward for each episode, but is too varaible to see anything. It is better to average returns."
   ]
  },
  {
   "cell_type": "code",
   "execution_count": 15,
   "metadata": {},
   "outputs": [
    {
     "data": {
      "image/png": "[encoded data removed]",
      "text/plain": [
       "<Figure size 432x288 with 1 Axes>"
      ]
     },
     "metadata": {
      "needs_background": "light"
     },
     "output_type": "display_data"
    }
   ],
   "source": [
    "plt.plot(lr)\n",
    "plt.show()"
   ]
  },
  {
   "cell_type": "markdown",
   "metadata": {},
   "source": [
    "Why so many peaks? Remeber! We take random actions with probability $\\epsilon$. Notice difference in performance when we set epsilon to zero. That's because we use an off-policy method."
   ]
  },
  {
   "cell_type": "code",
   "execution_count": 16,
   "metadata": {},
   "outputs": [
    {
     "name": "stdout",
     "output_type": "stream",
     "text": [
      "Average reward for epsilon 0.1 : 414.55\n",
      "Average reward for epsilon 0: 491.6\n"
     ]
    }
   ],
   "source": [
    "def rollout(epsilon, render=True):\n",
    "    done = False\n",
    "    R, reward = 0,0\n",
    "    state = d.Discretize(env.reset())\n",
    "    while done != True:\n",
    "            if render: \n",
    "                env.render()\n",
    "            action = choose_action(state, epsilon) \n",
    "            obs, reward, done, info = env.step(action) \n",
    "            R = gamma * R + reward\n",
    "            state = d.Discretize(obs)\n",
    "    return R\n",
    "\n",
    "rollout(epsilon)\n",
    "rollout(0)\n",
    "\n",
    "print('Average reward for epsilon',epsilon,':', np.mean([rollout(epsilon, render=False) for _ in range(20)]))\n",
    "print('Average reward for epsilon 0:', np.mean([rollout(0,render=False) for _ in range(20)]))"
   ]
  },
  {
   "cell_type": "markdown",
   "metadata": {},
   "source": [
    "But instead of stopping after return in last 100 experiments is higher than 200, let's iterate a fixed number of experiences"
   ]
  },
  {
   "cell_type": "code",
   "execution_count": 17,
   "metadata": {},
   "outputs": [
    {
     "data": {
      "image/png": "[encoded data removed]",
      "text/plain": [
       "<Figure size 432x288 with 1 Axes>"
      ]
     },
     "metadata": {
      "needs_background": "light"
     },
     "output_type": "display_data"
    }
   ],
   "source": [
    "# Set parameters for learning\n",
    "alpha = 0.2\n",
    "epsilon = 0.1\n",
    "gamma = 1\n",
    "\n",
    "# Create and initialize Q-value table to 0\n",
    "Q = np.zeros(discr_vector + (env.action_space.n,))\n",
    "\n",
    "# Just to store the long-term-reward of the last 100 experiments \n",
    "scores = deque(maxlen=100)\n",
    "lrews = []\n",
    "\n",
    "for episode in range(1,3001):\n",
    "    done = False\n",
    "    R, reward = 0,0\n",
    "    state = d.Discretize(env.reset())\n",
    "    while done != True:\n",
    "            action = choose_action(state, epsilon) \n",
    "            obs, reward, done, info = env.step(action) \n",
    "            new_state = d.Discretize(obs)\n",
    "            Q[state][action] += alpha * (reward + gamma * np.max(Q[new_state]) - Q[state][action]) #3\n",
    "            R = gamma * R + reward\n",
    "            state = new_state   \n",
    "    scores.append(R)\n",
    "    mean_score = np.mean(scores)\n",
    "    lrews.append(np.mean(scores))\n",
    "\n",
    "plt.plot(lrews)\n",
    "plt.show()"
   ]
  },
  {
   "cell_type": "markdown",
   "metadata": {},
   "source": [
    "Inestability can be produced because we had not good enough discretization and/or large alpha values and/or large epsilon values. \n"
   ]
  },
  {
   "cell_type": "markdown",
   "metadata": {},
   "source": [
    "Not bad. However, in RL results depend a lot on randomization, so it's a good thing repeat several times the same procedure"
   ]
  },
  {
   "cell_type": "code",
   "execution_count": 18,
   "metadata": {},
   "outputs": [
    {
     "name": "stdout",
     "output_type": "stream",
     "text": [
      "*** New experiment!\n",
      "*** New experiment!\n",
      "*** New experiment!\n",
      "*** New experiment!\n",
      "*** New experiment!\n",
      "*** New experiment!\n",
      "*** New experiment!\n",
      "*** New experiment!\n",
      "*** New experiment!\n",
      "*** New experiment!\n"
     ]
    }
   ],
   "source": [
    "l100rew=[]\n",
    "for _ in range(10):\n",
    "    print('*** New experiment!')\n",
    "    # Create and initialize Q-value table to 0\n",
    "    Q = np.zeros(discr_vector + (env.action_space.n,))\n",
    "\n",
    "    # Just to store the long-term-reward of the last 100 experiments \n",
    "    scores = deque(maxlen=100)\n",
    "    lrews = []\n",
    "\n",
    "    for episode in range(1,3001):\n",
    "        done = False\n",
    "        R, reward = 0,0\n",
    "        state = d.Discretize(env.reset())\n",
    "        while done != True:\n",
    "                action = choose_action(state, epsilon) \n",
    "                obs, reward, done, info = env.step(action) \n",
    "                new_state = d.Discretize(obs)\n",
    "                Q[state][action] += alpha * (reward + gamma * np.max(Q[new_state]) - Q[state][action]) #3\n",
    "                R = gamma * R + reward\n",
    "                state = new_state   \n",
    "        scores.append(R)\n",
    "        mean_score = np.mean(scores)\n",
    "        lrews.append(np.mean(scores))\n",
    "        #if mean_score >= 195 and episode >= 100:\n",
    "        #    print('Ran {} episodes. Solved after {} trials ✔'.format(episode, episode - 100))    \n",
    "        #    break\n",
    "        #if episode % 100 == 0:\n",
    "        #    print('Episode {} Total Reward: {} Average Reward: {}'.format(episode,G,np.mean(scores)))\n",
    "    l100rew.append(lrews)\n",
    "    \n",
    "    "
   ]
  },
  {
   "cell_type": "code",
   "execution_count": 19,
   "metadata": {},
   "outputs": [
    {
     "name": "stderr",
     "output_type": "stream",
     "text": [
      "C:\\Anaconda\\envs\\py35\\lib\\site-packages\\seaborn\\timeseries.py:183: UserWarning: The `tsplot` function is deprecated and will be removed in a future release. Please update your code to use the new `lineplot` function.\n",
      "  warnings.warn(msg, UserWarning)\n",
      "C:\\Anaconda\\envs\\py35\\lib\\site-packages\\scipy\\stats\\stats.py:1713: FutureWarning: Using a non-tuple sequence for multidimensional indexing is deprecated; use `arr[tuple(seq)]` instead of `arr[seq]`. In the future this will be interpreted as an array index, `arr[np.array(seq)]`, which will result either in an error or a different result.\n",
      "  return np.add.reduce(sorted[indexer] * weights, axis=axis) / sumval\n"
     ]
    },
    {
     "data": {
      "image/png": "[encoded data removed]",
      "text/plain": [
       "<Figure size 432x288 with 1 Axes>"
      ]
     },
     "metadata": {
      "needs_background": "light"
     },
     "output_type": "display_data"
    }
   ],
   "source": [
    "sns.tsplot(data=l100rew) #, err_style=\"unit_traces\")\n",
    "plt.show()"
   ]
  },
  {
   "cell_type": "markdown",
   "metadata": {},
   "source": [
    "Not very smooth and somewhat slow in learning. We could do better setting a variable alpha and epsilon (why?)\n",
    "\n",
    "$$ \\epsilon = \\max \\left( \\epsilon_{min}, 1- \\log \\frac{t+1}{tau} \\right) $$\n",
    "$$ \\alpha = \\max \\left( \\alpha_{min}, 1- \\log \\frac{t+1}{tau} \\right) $$"
   ]
  },
  {
   "cell_type": "code",
   "execution_count": 20,
   "metadata": {},
   "outputs": [
    {
     "data": {
      "image/png": "[encoded data removed]",
      "text/plain": [
       "<Figure size 432x288 with 1 Axes>"
      ]
     },
     "metadata": {
      "needs_background": "light"
     },
     "output_type": "display_data"
    }
   ],
   "source": [
    "min_alpha=0.05\n",
    "min_epsilon = 0.01\n",
    "tau = 50\n",
    "\n",
    "def set_epsilon(t, tau):\n",
    "    return max(min_epsilon, min(1, 1.0 - math.log10((t + 1) / tau)))\n",
    "\n",
    "def set_alpha(t, tau):\n",
    "    return max(min_alpha, min(1.0, 1.0 - math.log10((t + 1) / tau)))\n",
    "\n",
    "plt.plot([set_alpha(i, tau) for i in range(3001)])\n",
    "plt.show()"
   ]
  },
  {
   "cell_type": "code",
   "execution_count": 21,
   "metadata": {},
   "outputs": [
    {
     "name": "stdout",
     "output_type": "stream",
     "text": [
      "*** New experiment!\n",
      "*** New experiment!\n",
      "*** New experiment!\n",
      "*** New experiment!\n",
      "*** New experiment!\n",
      "*** New experiment!\n",
      "*** New experiment!\n",
      "*** New experiment!\n",
      "*** New experiment!\n",
      "*** New experiment!\n"
     ]
    },
    {
     "name": "stderr",
     "output_type": "stream",
     "text": [
      "C:\\Anaconda\\envs\\py35\\lib\\site-packages\\seaborn\\timeseries.py:183: UserWarning: The `tsplot` function is deprecated and will be removed in a future release. Please update your code to use the new `lineplot` function.\n",
      "  warnings.warn(msg, UserWarning)\n"
     ]
    },
    {
     "data": {
      "image/png": "[encoded data removed]",
      "text/plain": [
       "<Figure size 432x288 with 1 Axes>"
      ]
     },
     "metadata": {
      "needs_background": "light"
     },
     "output_type": "display_data"
    }
   ],
   "source": [
    "l100rew=[]\n",
    "for _ in range(10):\n",
    "    print('*** New experiment!')\n",
    "    # Create and initialize Q-value table to 0\n",
    "    Q = np.zeros(discr_vector + (env.action_space.n,))\n",
    "\n",
    "    # Just to store the long-term-reward of the last 100 experiments \n",
    "    scores = deque(maxlen=100)\n",
    "    lrews = []\n",
    "\n",
    "    for episode in range(1,1001):\n",
    "        done = False\n",
    "        e = set_epsilon(episode, tau)\n",
    "        a = set_alpha(episode, tau)\n",
    "        R, reward = 0,0\n",
    "        state = d.Discretize(env.reset())\n",
    "        while done != True:\n",
    "                action = choose_action(state, e) \n",
    "                obs, reward, done, info = env.step(action) \n",
    "                new_state = d.Discretize(obs)\n",
    "                Q[state][action] += a * (reward + gamma * np.max(Q[new_state]) - Q[state][action]) #3\n",
    "                R = gamma * R + reward\n",
    "                state = new_state   \n",
    "        scores.append(R)\n",
    "        mean_score = np.mean(scores)\n",
    "        lrews.append(np.mean(scores))\n",
    "    l100rew.append(lrews)\n",
    "\n",
    "sns.tsplot(data=l100rew) #, err_style=\"unit_traces\")\n",
    "plt.show()"
   ]
  },
  {
   "cell_type": "code",
   "execution_count": 24,
   "metadata": {},
   "outputs": [
    {
     "name": "stdout",
     "output_type": "stream",
     "text": [
      "Average reward for epsilon 0: 472.5\n"
     ]
    }
   ],
   "source": [
    "print('Average reward for epsilon 0:', np.mean([rollout(0,render=True) for _ in range(20)]))"
   ]
  },
  {
   "cell_type": "markdown",
   "metadata": {},
   "source": [
    "## Exercises\n",
    "\n",
    "1. Play with parameters for discretization and see how they affect performance and convergence\n",
    "2. Try other methods to decrese $\\alpha$ and $\\epsilon$\n",
    "3. Try Boltzman exploration instead of $\\epsilon$ greedy\n",
    "4. Obtain Q-values for starting state. Is that strange? Can you explain/solve the problem using gamma different to 1? Try with gamma 0.99 for example.\n",
    "5. **Implement Monte-Carlo for this problem and compare performance and variance with Q-learning**\n",
    "6. **Implement n-steps Q-learning for this problem and compare performance with Q-learning**\n",
    "7. **Implement Sarsa on this problem**\n",
    "8. **Adapt everything has been done here to another Gym problem, f.i. Acrobot-v1 or MountainCar-v0**"
   ]
  },
  {
   "cell_type": "code",
   "execution_count": 25,
   "metadata": {},
   "outputs": [],
   "source": [
    "env.close()"
   ]
  },
  {
   "cell_type": "code",
   "execution_count": null,
   "metadata": {},
   "outputs": [],
   "source": []
  }
 ],
 "metadata": {
  "kernelspec": {
   "display_name": "Python 3",
   "language": "python",
   "name": "python3"
  },
  "language_info": {
   "codemirror_mode": {
    "name": "ipython",
    "version": 3
   },
   "file_extension": ".py",
   "mimetype": "text/x-python",
   "name": "python",
   "nbconvert_exporter": "python",
   "pygments_lexer": "ipython3",
   "version": "3.7.5"
  },
  "toc": {
   "base_numbering": 1,
   "nav_menu": {},
   "number_sections": true,
   "sideBar": true,
   "skip_h1_title": false,
   "title_cell": "Table of Contents",
   "title_sidebar": "Contents",
   "toc_cell": false,
   "toc_position": {},
   "toc_section_display": true,
   "toc_window_display": false
  }
 },
 "nbformat": 4,
 "nbformat_minor": 2
}
